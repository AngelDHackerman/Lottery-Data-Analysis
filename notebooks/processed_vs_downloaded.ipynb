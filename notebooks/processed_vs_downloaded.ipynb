{
 "cells": [
  {
   "cell_type": "code",
   "execution_count": 1,
   "metadata": {},
   "outputs": [],
   "source": [
    "import pandas as pd\n",
    "import numpy as np\n",
    "import matplotlib.pyplot as plt"
   ]
  },
  {
   "cell_type": "code",
   "execution_count": 2,
   "metadata": {},
   "outputs": [],
   "source": [
    "df_cloud = pd.read_csv('../Data/downloaded/premios_export.csv')\n",
    "\n",
    "df_local = pd.read_csv('../Data/processed/premios.csv')"
   ]
  },
  {
   "cell_type": "code",
   "execution_count": 3,
   "metadata": {},
   "outputs": [],
   "source": [
    "df_cloud.sort_values(by='numero_sorteo', inplace=True)\n",
    "df_local.sort_values(by='numero_sorteo', inplace=True)"
   ]
  },
  {
   "cell_type": "code",
   "execution_count": 4,
   "metadata": {},
   "outputs": [
    {
     "data": {
      "text/html": [
       "<div>\n",
       "<style scoped>\n",
       "    .dataframe tbody tr th:only-of-type {\n",
       "        vertical-align: middle;\n",
       "    }\n",
       "\n",
       "    .dataframe tbody tr th {\n",
       "        vertical-align: top;\n",
       "    }\n",
       "\n",
       "    .dataframe thead th {\n",
       "        text-align: right;\n",
       "    }\n",
       "</style>\n",
       "<table border=\"1\" class=\"dataframe\">\n",
       "  <thead>\n",
       "    <tr style=\"text-align: right;\">\n",
       "      <th></th>\n",
       "      <th>numero_sorteo</th>\n",
       "      <th>numero_premiado</th>\n",
       "      <th>letras</th>\n",
       "      <th>monto</th>\n",
       "      <th>vendedor</th>\n",
       "      <th>ciudad</th>\n",
       "      <th>departamento</th>\n",
       "    </tr>\n",
       "  </thead>\n",
       "  <tbody>\n",
       "    <tr>\n",
       "      <th>13</th>\n",
       "      <td>390</td>\n",
       "      <td>870</td>\n",
       "      <td>PR</td>\n",
       "      <td>950.0</td>\n",
       "      <td>NaN</td>\n",
       "      <td>NaN</td>\n",
       "      <td>NaN</td>\n",
       "    </tr>\n",
       "    <tr>\n",
       "      <th>12</th>\n",
       "      <td>390</td>\n",
       "      <td>813</td>\n",
       "      <td>P</td>\n",
       "      <td>600.0</td>\n",
       "      <td>NaN</td>\n",
       "      <td>NaN</td>\n",
       "      <td>NaN</td>\n",
       "    </tr>\n",
       "    <tr>\n",
       "      <th>11</th>\n",
       "      <td>390</td>\n",
       "      <td>780</td>\n",
       "      <td>TT</td>\n",
       "      <td>1200.0</td>\n",
       "      <td>NaN</td>\n",
       "      <td>NaN</td>\n",
       "      <td>NaN</td>\n",
       "    </tr>\n",
       "    <tr>\n",
       "      <th>10</th>\n",
       "      <td>390</td>\n",
       "      <td>680</td>\n",
       "      <td>DT</td>\n",
       "      <td>600.0</td>\n",
       "      <td>NaN</td>\n",
       "      <td>NaN</td>\n",
       "      <td>NaN</td>\n",
       "    </tr>\n",
       "    <tr>\n",
       "      <th>9</th>\n",
       "      <td>390</td>\n",
       "      <td>580</td>\n",
       "      <td>DT</td>\n",
       "      <td>600.0</td>\n",
       "      <td>NaN</td>\n",
       "      <td>NaN</td>\n",
       "      <td>NaN</td>\n",
       "    </tr>\n",
       "    <tr>\n",
       "      <th>...</th>\n",
       "      <td>...</td>\n",
       "      <td>...</td>\n",
       "      <td>...</td>\n",
       "      <td>...</td>\n",
       "      <td>...</td>\n",
       "      <td>...</td>\n",
       "      <td>...</td>\n",
       "    </tr>\n",
       "    <tr>\n",
       "      <th>33074</th>\n",
       "      <td>3070</td>\n",
       "      <td>209</td>\n",
       "      <td>P</td>\n",
       "      <td>700.0</td>\n",
       "      <td>NaN</td>\n",
       "      <td>NaN</td>\n",
       "      <td>NaN</td>\n",
       "    </tr>\n",
       "    <tr>\n",
       "      <th>33075</th>\n",
       "      <td>3070</td>\n",
       "      <td>229</td>\n",
       "      <td>P</td>\n",
       "      <td>1000.0</td>\n",
       "      <td>NaN</td>\n",
       "      <td>NaN</td>\n",
       "      <td>NaN</td>\n",
       "    </tr>\n",
       "    <tr>\n",
       "      <th>33942</th>\n",
       "      <td>3070</td>\n",
       "      <td>79823</td>\n",
       "      <td>TTR</td>\n",
       "      <td>570.0</td>\n",
       "      <td>NaN</td>\n",
       "      <td>NaN</td>\n",
       "      <td>NaN</td>\n",
       "    </tr>\n",
       "    <tr>\n",
       "      <th>33911</th>\n",
       "      <td>3070</td>\n",
       "      <td>76027</td>\n",
       "      <td>P</td>\n",
       "      <td>600.0</td>\n",
       "      <td>NaN</td>\n",
       "      <td>NaN</td>\n",
       "      <td>NaN</td>\n",
       "    </tr>\n",
       "    <tr>\n",
       "      <th>33909</th>\n",
       "      <td>3070</td>\n",
       "      <td>75820</td>\n",
       "      <td>TT</td>\n",
       "      <td>600.0</td>\n",
       "      <td>NaN</td>\n",
       "      <td>NaN</td>\n",
       "      <td>NaN</td>\n",
       "    </tr>\n",
       "  </tbody>\n",
       "</table>\n",
       "<p>33943 rows × 7 columns</p>\n",
       "</div>"
      ],
      "text/plain": [
       "       numero_sorteo  numero_premiado letras   monto vendedor ciudad  \\\n",
       "13               390              870     PR   950.0      NaN    NaN   \n",
       "12               390              813      P   600.0      NaN    NaN   \n",
       "11               390              780     TT  1200.0      NaN    NaN   \n",
       "10               390              680     DT   600.0      NaN    NaN   \n",
       "9                390              580     DT   600.0      NaN    NaN   \n",
       "...              ...              ...    ...     ...      ...    ...   \n",
       "33074           3070              209      P   700.0      NaN    NaN   \n",
       "33075           3070              229      P  1000.0      NaN    NaN   \n",
       "33942           3070            79823    TTR   570.0      NaN    NaN   \n",
       "33911           3070            76027      P   600.0      NaN    NaN   \n",
       "33909           3070            75820     TT   600.0      NaN    NaN   \n",
       "\n",
       "      departamento  \n",
       "13             NaN  \n",
       "12             NaN  \n",
       "11             NaN  \n",
       "10             NaN  \n",
       "9              NaN  \n",
       "...            ...  \n",
       "33074          NaN  \n",
       "33075          NaN  \n",
       "33942          NaN  \n",
       "33911          NaN  \n",
       "33909          NaN  \n",
       "\n",
       "[33943 rows x 7 columns]"
      ]
     },
     "execution_count": 4,
     "metadata": {},
     "output_type": "execute_result"
    }
   ],
   "source": [
    "df_cloud = df_cloud.drop(columns='id')\n",
    "df_cloud"
   ]
  },
  {
   "cell_type": "code",
   "execution_count": 5,
   "metadata": {},
   "outputs": [
    {
     "data": {
      "text/html": [
       "<div>\n",
       "<style scoped>\n",
       "    .dataframe tbody tr th:only-of-type {\n",
       "        vertical-align: middle;\n",
       "    }\n",
       "\n",
       "    .dataframe tbody tr th {\n",
       "        vertical-align: top;\n",
       "    }\n",
       "\n",
       "    .dataframe thead th {\n",
       "        text-align: right;\n",
       "    }\n",
       "</style>\n",
       "<table border=\"1\" class=\"dataframe\">\n",
       "  <thead>\n",
       "    <tr style=\"text-align: right;\">\n",
       "      <th></th>\n",
       "      <th>numero_sorteo</th>\n",
       "      <th>numero_premiado</th>\n",
       "      <th>letras</th>\n",
       "      <th>monto</th>\n",
       "      <th>vendedor</th>\n",
       "      <th>ciudad</th>\n",
       "      <th>departamento</th>\n",
       "    </tr>\n",
       "  </thead>\n",
       "  <tbody>\n",
       "    <tr>\n",
       "      <th>13</th>\n",
       "      <td>390</td>\n",
       "      <td>870</td>\n",
       "      <td>PR</td>\n",
       "      <td>950.0</td>\n",
       "      <td>NaN</td>\n",
       "      <td>NaN</td>\n",
       "      <td>NaN</td>\n",
       "    </tr>\n",
       "    <tr>\n",
       "      <th>12</th>\n",
       "      <td>390</td>\n",
       "      <td>813</td>\n",
       "      <td>P</td>\n",
       "      <td>600.0</td>\n",
       "      <td>NaN</td>\n",
       "      <td>NaN</td>\n",
       "      <td>NaN</td>\n",
       "    </tr>\n",
       "    <tr>\n",
       "      <th>11</th>\n",
       "      <td>390</td>\n",
       "      <td>780</td>\n",
       "      <td>TT</td>\n",
       "      <td>1200.0</td>\n",
       "      <td>NaN</td>\n",
       "      <td>NaN</td>\n",
       "      <td>NaN</td>\n",
       "    </tr>\n",
       "    <tr>\n",
       "      <th>10</th>\n",
       "      <td>390</td>\n",
       "      <td>680</td>\n",
       "      <td>DT</td>\n",
       "      <td>600.0</td>\n",
       "      <td>NaN</td>\n",
       "      <td>NaN</td>\n",
       "      <td>NaN</td>\n",
       "    </tr>\n",
       "    <tr>\n",
       "      <th>9</th>\n",
       "      <td>390</td>\n",
       "      <td>580</td>\n",
       "      <td>DT</td>\n",
       "      <td>600.0</td>\n",
       "      <td>NaN</td>\n",
       "      <td>NaN</td>\n",
       "      <td>NaN</td>\n",
       "    </tr>\n",
       "    <tr>\n",
       "      <th>...</th>\n",
       "      <td>...</td>\n",
       "      <td>...</td>\n",
       "      <td>...</td>\n",
       "      <td>...</td>\n",
       "      <td>...</td>\n",
       "      <td>...</td>\n",
       "      <td>...</td>\n",
       "    </tr>\n",
       "    <tr>\n",
       "      <th>33074</th>\n",
       "      <td>3070</td>\n",
       "      <td>209</td>\n",
       "      <td>P</td>\n",
       "      <td>700.0</td>\n",
       "      <td>NaN</td>\n",
       "      <td>NaN</td>\n",
       "      <td>NaN</td>\n",
       "    </tr>\n",
       "    <tr>\n",
       "      <th>33075</th>\n",
       "      <td>3070</td>\n",
       "      <td>229</td>\n",
       "      <td>P</td>\n",
       "      <td>1000.0</td>\n",
       "      <td>NaN</td>\n",
       "      <td>NaN</td>\n",
       "      <td>NaN</td>\n",
       "    </tr>\n",
       "    <tr>\n",
       "      <th>33942</th>\n",
       "      <td>3070</td>\n",
       "      <td>79823</td>\n",
       "      <td>TTR</td>\n",
       "      <td>570.0</td>\n",
       "      <td>NaN</td>\n",
       "      <td>NaN</td>\n",
       "      <td>NaN</td>\n",
       "    </tr>\n",
       "    <tr>\n",
       "      <th>33911</th>\n",
       "      <td>3070</td>\n",
       "      <td>76027</td>\n",
       "      <td>P</td>\n",
       "      <td>600.0</td>\n",
       "      <td>NaN</td>\n",
       "      <td>NaN</td>\n",
       "      <td>NaN</td>\n",
       "    </tr>\n",
       "    <tr>\n",
       "      <th>33909</th>\n",
       "      <td>3070</td>\n",
       "      <td>75820</td>\n",
       "      <td>TT</td>\n",
       "      <td>600.0</td>\n",
       "      <td>NaN</td>\n",
       "      <td>NaN</td>\n",
       "      <td>NaN</td>\n",
       "    </tr>\n",
       "  </tbody>\n",
       "</table>\n",
       "<p>33943 rows × 7 columns</p>\n",
       "</div>"
      ],
      "text/plain": [
       "       numero_sorteo  numero_premiado letras   monto vendedor ciudad  \\\n",
       "13               390              870     PR   950.0      NaN    NaN   \n",
       "12               390              813      P   600.0      NaN    NaN   \n",
       "11               390              780     TT  1200.0      NaN    NaN   \n",
       "10               390              680     DT   600.0      NaN    NaN   \n",
       "9                390              580     DT   600.0      NaN    NaN   \n",
       "...              ...              ...    ...     ...      ...    ...   \n",
       "33074           3070              209      P   700.0      NaN    NaN   \n",
       "33075           3070              229      P  1000.0      NaN    NaN   \n",
       "33942           3070            79823    TTR   570.0      NaN    NaN   \n",
       "33911           3070            76027      P   600.0      NaN    NaN   \n",
       "33909           3070            75820     TT   600.0      NaN    NaN   \n",
       "\n",
       "      departamento  \n",
       "13             NaN  \n",
       "12             NaN  \n",
       "11             NaN  \n",
       "10             NaN  \n",
       "9              NaN  \n",
       "...            ...  \n",
       "33074          NaN  \n",
       "33075          NaN  \n",
       "33942          NaN  \n",
       "33911          NaN  \n",
       "33909          NaN  \n",
       "\n",
       "[33943 rows x 7 columns]"
      ]
     },
     "execution_count": 5,
     "metadata": {},
     "output_type": "execute_result"
    }
   ],
   "source": [
    "df_local"
   ]
  },
  {
   "cell_type": "code",
   "execution_count": 6,
   "metadata": {},
   "outputs": [
    {
     "data": {
      "text/plain": [
       "numero_sorteo          0\n",
       "numero_premiado        0\n",
       "letras                 0\n",
       "monto                  0\n",
       "vendedor           30433\n",
       "ciudad             30809\n",
       "departamento       30809\n",
       "dtype: int64"
      ]
     },
     "execution_count": 6,
     "metadata": {},
     "output_type": "execute_result"
    }
   ],
   "source": [
    "df_cloud.isnull().sum()"
   ]
  },
  {
   "cell_type": "code",
   "execution_count": 13,
   "metadata": {},
   "outputs": [
    {
     "data": {
      "text/plain": [
       "np.int64(0)"
      ]
     },
     "execution_count": 13,
     "metadata": {},
     "output_type": "execute_result"
    }
   ],
   "source": [
    "df_cloud.duplicated().sum()"
   ]
  },
  {
   "cell_type": "code",
   "execution_count": 7,
   "metadata": {},
   "outputs": [
    {
     "data": {
      "text/plain": [
       "numero_sorteo          0\n",
       "numero_premiado        0\n",
       "letras                 0\n",
       "monto                  0\n",
       "vendedor           30433\n",
       "ciudad             30809\n",
       "departamento       30809\n",
       "dtype: int64"
      ]
     },
     "execution_count": 7,
     "metadata": {},
     "output_type": "execute_result"
    }
   ],
   "source": [
    "df_local.isnull().sum()"
   ]
  },
  {
   "cell_type": "code",
   "execution_count": 14,
   "metadata": {},
   "outputs": [
    {
     "data": {
      "text/plain": [
       "np.int64(0)"
      ]
     },
     "execution_count": 14,
     "metadata": {},
     "output_type": "execute_result"
    }
   ],
   "source": [
    "df_local.duplicated().sum()"
   ]
  },
  {
   "cell_type": "code",
   "execution_count": 8,
   "metadata": {},
   "outputs": [],
   "source": [
    "df_merged = pd.merge(df_cloud, df_local,\n",
    "                     on=list(df_cloud.columns),  # all columns must match\n",
    "                     how=\"outer\",\n",
    "                     indicator=True)\n",
    "\n",
    "# Step 3: Filter rows that appear ONLY in the cloud DataFrame\n",
    "df_only_in_cloud = df_merged[df_merged[\"_merge\"] == \"right_only\"].drop(columns=[\"_merge\"])"
   ]
  },
  {
   "cell_type": "code",
   "execution_count": 9,
   "metadata": {},
   "outputs": [
    {
     "data": {
      "text/html": [
       "<div>\n",
       "<style scoped>\n",
       "    .dataframe tbody tr th:only-of-type {\n",
       "        vertical-align: middle;\n",
       "    }\n",
       "\n",
       "    .dataframe tbody tr th {\n",
       "        vertical-align: top;\n",
       "    }\n",
       "\n",
       "    .dataframe thead th {\n",
       "        text-align: right;\n",
       "    }\n",
       "</style>\n",
       "<table border=\"1\" class=\"dataframe\">\n",
       "  <thead>\n",
       "    <tr style=\"text-align: right;\">\n",
       "      <th></th>\n",
       "      <th>numero_sorteo</th>\n",
       "      <th>numero_premiado</th>\n",
       "      <th>letras</th>\n",
       "      <th>monto</th>\n",
       "      <th>vendedor</th>\n",
       "      <th>ciudad</th>\n",
       "      <th>departamento</th>\n",
       "    </tr>\n",
       "  </thead>\n",
       "  <tbody>\n",
       "  </tbody>\n",
       "</table>\n",
       "</div>"
      ],
      "text/plain": [
       "Empty DataFrame\n",
       "Columns: [numero_sorteo, numero_premiado, letras, monto, vendedor, ciudad, departamento]\n",
       "Index: []"
      ]
     },
     "execution_count": 9,
     "metadata": {},
     "output_type": "execute_result"
    }
   ],
   "source": [
    "df_only_in_cloud"
   ]
  },
  {
   "cell_type": "code",
   "execution_count": 10,
   "metadata": {},
   "outputs": [],
   "source": [
    "df_only_in_cloud.to_csv(\"rows_only_in_cloud.csv\", index=False)"
   ]
  },
  {
   "cell_type": "code",
   "execution_count": 11,
   "metadata": {},
   "outputs": [],
   "source": [
    "df_merged_local = pd.merge(df_local, df_cloud,\n",
    "                     on=list(df_local.columns),  # all columns must match\n",
    "                     how=\"outer\",\n",
    "                     indicator=True)\n",
    "\n",
    "# Step 3: Filter rows that appear ONLY in the cloud DataFrame\n",
    "df_only_in_local = df_merged[df_merged[\"_merge\"] == \"right_only\"].drop(columns=[\"_merge\"])"
   ]
  },
  {
   "cell_type": "code",
   "execution_count": 12,
   "metadata": {},
   "outputs": [
    {
     "data": {
      "text/html": [
       "<div>\n",
       "<style scoped>\n",
       "    .dataframe tbody tr th:only-of-type {\n",
       "        vertical-align: middle;\n",
       "    }\n",
       "\n",
       "    .dataframe tbody tr th {\n",
       "        vertical-align: top;\n",
       "    }\n",
       "\n",
       "    .dataframe thead th {\n",
       "        text-align: right;\n",
       "    }\n",
       "</style>\n",
       "<table border=\"1\" class=\"dataframe\">\n",
       "  <thead>\n",
       "    <tr style=\"text-align: right;\">\n",
       "      <th></th>\n",
       "      <th>numero_sorteo</th>\n",
       "      <th>numero_premiado</th>\n",
       "      <th>letras</th>\n",
       "      <th>monto</th>\n",
       "      <th>vendedor</th>\n",
       "      <th>ciudad</th>\n",
       "      <th>departamento</th>\n",
       "    </tr>\n",
       "  </thead>\n",
       "  <tbody>\n",
       "  </tbody>\n",
       "</table>\n",
       "</div>"
      ],
      "text/plain": [
       "Empty DataFrame\n",
       "Columns: [numero_sorteo, numero_premiado, letras, monto, vendedor, ciudad, departamento]\n",
       "Index: []"
      ]
     },
     "execution_count": 12,
     "metadata": {},
     "output_type": "execute_result"
    }
   ],
   "source": [
    "df_only_in_local"
   ]
  }
 ],
 "metadata": {
  "kernelspec": {
   "display_name": "loteria-env",
   "language": "python",
   "name": "python3"
  },
  "language_info": {
   "codemirror_mode": {
    "name": "ipython",
    "version": 3
   },
   "file_extension": ".py",
   "mimetype": "text/x-python",
   "name": "python",
   "nbconvert_exporter": "python",
   "pygments_lexer": "ipython3",
   "version": "3.13.1"
  }
 },
 "nbformat": 4,
 "nbformat_minor": 2
}

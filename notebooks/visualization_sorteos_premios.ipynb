{
 "cells": [
  {
   "cell_type": "markdown",
   "metadata": {},
   "source": [
    "# Objective: "
   ]
  },
  {
   "cell_type": "code",
   "execution_count": 75,
   "metadata": {},
   "outputs": [],
   "source": [
    "import pandas as pd\n",
    "import matplotlib.pyplot as plt\n",
    "import seaborn as sns\n",
    "import numpy as np"
   ]
  },
  {
   "cell_type": "code",
   "execution_count": 76,
   "metadata": {},
   "outputs": [],
   "source": [
    "# Load Datasets \n",
    "sorteos_df = pd.read_csv('../Data/downloaded/sorteos_export.csv')\n",
    "premios_df = pd.read_csv('../Data/downloaded/premios_export.csv')"
   ]
  },
  {
   "cell_type": "code",
   "execution_count": 77,
   "metadata": {},
   "outputs": [],
   "source": [
    "# Join datasets by 'numero_sorteo'\n",
    "df = pd.merge(premios_df, sorteos_df, on='numero_sorteo', how='inner')\n",
    "\n",
    "# Removing column \"id\"\n",
    "df.drop(columns=['id'], inplace=True)\n",
    "\n",
    "# Save the new dataset for latter analysis in AWS QuickSight\n",
    "df.to_csv('../Data/processed/data_combined.csv', index=False)"
   ]
  },
  {
   "cell_type": "markdown",
   "metadata": {},
   "source": [
    "## Data imputation"
   ]
  },
  {
   "cell_type": "code",
   "execution_count": 78,
   "metadata": {},
   "outputs": [
    {
     "data": {
      "text/html": [
       "<div>\n",
       "<style scoped>\n",
       "    .dataframe tbody tr th:only-of-type {\n",
       "        vertical-align: middle;\n",
       "    }\n",
       "\n",
       "    .dataframe tbody tr th {\n",
       "        vertical-align: top;\n",
       "    }\n",
       "\n",
       "    .dataframe thead th {\n",
       "        text-align: right;\n",
       "    }\n",
       "</style>\n",
       "<table border=\"1\" class=\"dataframe\">\n",
       "  <thead>\n",
       "    <tr style=\"text-align: right;\">\n",
       "      <th></th>\n",
       "      <th>numero_sorteo</th>\n",
       "      <th>numero_premiado</th>\n",
       "      <th>letras</th>\n",
       "      <th>monto</th>\n",
       "      <th>vendedor</th>\n",
       "      <th>ciudad</th>\n",
       "      <th>departamento</th>\n",
       "      <th>tipo_sorteo</th>\n",
       "      <th>fecha_sorteo</th>\n",
       "      <th>fecha_caducidad</th>\n",
       "      <th>primer_premio</th>\n",
       "      <th>segundo_premio</th>\n",
       "      <th>tercer_premio</th>\n",
       "      <th>reintegro_primer_premio</th>\n",
       "      <th>reintegro_segundo_premio</th>\n",
       "      <th>reintegro_tercer_premio</th>\n",
       "    </tr>\n",
       "  </thead>\n",
       "  <tbody>\n",
       "    <tr>\n",
       "      <th>0</th>\n",
       "      <td>390</td>\n",
       "      <td>44</td>\n",
       "      <td>P</td>\n",
       "      <td>600.0</td>\n",
       "      <td>N/A</td>\n",
       "      <td>N/A</td>\n",
       "      <td>N/A</td>\n",
       "      <td>EXTRAORDINARIO</td>\n",
       "      <td>2024-06-08</td>\n",
       "      <td>2024-12-09</td>\n",
       "      <td>16780</td>\n",
       "      <td>46129</td>\n",
       "      <td>77885</td>\n",
       "      <td>0</td>\n",
       "      <td>9</td>\n",
       "      <td>5</td>\n",
       "    </tr>\n",
       "    <tr>\n",
       "      <th>1</th>\n",
       "      <td>390</td>\n",
       "      <td>80</td>\n",
       "      <td>DT</td>\n",
       "      <td>600.0</td>\n",
       "      <td>N/A</td>\n",
       "      <td>N/A</td>\n",
       "      <td>N/A</td>\n",
       "      <td>EXTRAORDINARIO</td>\n",
       "      <td>2024-06-08</td>\n",
       "      <td>2024-12-09</td>\n",
       "      <td>16780</td>\n",
       "      <td>46129</td>\n",
       "      <td>77885</td>\n",
       "      <td>0</td>\n",
       "      <td>9</td>\n",
       "      <td>5</td>\n",
       "    </tr>\n",
       "    <tr>\n",
       "      <th>2</th>\n",
       "      <td>390</td>\n",
       "      <td>129</td>\n",
       "      <td>TT</td>\n",
       "      <td>1000.0</td>\n",
       "      <td>N/A</td>\n",
       "      <td>N/A</td>\n",
       "      <td>N/A</td>\n",
       "      <td>EXTRAORDINARIO</td>\n",
       "      <td>2024-06-08</td>\n",
       "      <td>2024-12-09</td>\n",
       "      <td>16780</td>\n",
       "      <td>46129</td>\n",
       "      <td>77885</td>\n",
       "      <td>0</td>\n",
       "      <td>9</td>\n",
       "      <td>5</td>\n",
       "    </tr>\n",
       "    <tr>\n",
       "      <th>3</th>\n",
       "      <td>390</td>\n",
       "      <td>180</td>\n",
       "      <td>DT</td>\n",
       "      <td>600.0</td>\n",
       "      <td>N/A</td>\n",
       "      <td>N/A</td>\n",
       "      <td>N/A</td>\n",
       "      <td>EXTRAORDINARIO</td>\n",
       "      <td>2024-06-08</td>\n",
       "      <td>2024-12-09</td>\n",
       "      <td>16780</td>\n",
       "      <td>46129</td>\n",
       "      <td>77885</td>\n",
       "      <td>0</td>\n",
       "      <td>9</td>\n",
       "      <td>5</td>\n",
       "    </tr>\n",
       "    <tr>\n",
       "      <th>4</th>\n",
       "      <td>390</td>\n",
       "      <td>228</td>\n",
       "      <td>P</td>\n",
       "      <td>800.0</td>\n",
       "      <td>N/A</td>\n",
       "      <td>N/A</td>\n",
       "      <td>N/A</td>\n",
       "      <td>EXTRAORDINARIO</td>\n",
       "      <td>2024-06-08</td>\n",
       "      <td>2024-12-09</td>\n",
       "      <td>16780</td>\n",
       "      <td>46129</td>\n",
       "      <td>77885</td>\n",
       "      <td>0</td>\n",
       "      <td>9</td>\n",
       "      <td>5</td>\n",
       "    </tr>\n",
       "    <tr>\n",
       "      <th>...</th>\n",
       "      <td>...</td>\n",
       "      <td>...</td>\n",
       "      <td>...</td>\n",
       "      <td>...</td>\n",
       "      <td>...</td>\n",
       "      <td>...</td>\n",
       "      <td>...</td>\n",
       "      <td>...</td>\n",
       "      <td>...</td>\n",
       "      <td>...</td>\n",
       "      <td>...</td>\n",
       "      <td>...</td>\n",
       "      <td>...</td>\n",
       "      <td>...</td>\n",
       "      <td>...</td>\n",
       "      <td>...</td>\n",
       "    </tr>\n",
       "    <tr>\n",
       "      <th>31891</th>\n",
       "      <td>3046</td>\n",
       "      <td>79292</td>\n",
       "      <td>P</td>\n",
       "      <td>700.0</td>\n",
       "      <td>N/A</td>\n",
       "      <td>N/A</td>\n",
       "      <td>N/A</td>\n",
       "      <td>ORDINARIO</td>\n",
       "      <td>2024-06-01</td>\n",
       "      <td>2024-12-02</td>\n",
       "      <td>46063</td>\n",
       "      <td>40361</td>\n",
       "      <td>39987</td>\n",
       "      <td>3</td>\n",
       "      <td>1</td>\n",
       "      <td>7</td>\n",
       "    </tr>\n",
       "    <tr>\n",
       "      <th>31892</th>\n",
       "      <td>3046</td>\n",
       "      <td>79361</td>\n",
       "      <td>TT</td>\n",
       "      <td>600.0</td>\n",
       "      <td>N/A</td>\n",
       "      <td>N/A</td>\n",
       "      <td>N/A</td>\n",
       "      <td>ORDINARIO</td>\n",
       "      <td>2024-06-01</td>\n",
       "      <td>2024-12-02</td>\n",
       "      <td>46063</td>\n",
       "      <td>40361</td>\n",
       "      <td>39987</td>\n",
       "      <td>3</td>\n",
       "      <td>1</td>\n",
       "      <td>7</td>\n",
       "    </tr>\n",
       "    <tr>\n",
       "      <th>31893</th>\n",
       "      <td>3046</td>\n",
       "      <td>79375</td>\n",
       "      <td>P</td>\n",
       "      <td>700.0</td>\n",
       "      <td>N/A</td>\n",
       "      <td>N/A</td>\n",
       "      <td>N/A</td>\n",
       "      <td>ORDINARIO</td>\n",
       "      <td>2024-06-01</td>\n",
       "      <td>2024-12-02</td>\n",
       "      <td>46063</td>\n",
       "      <td>40361</td>\n",
       "      <td>39987</td>\n",
       "      <td>3</td>\n",
       "      <td>1</td>\n",
       "      <td>7</td>\n",
       "    </tr>\n",
       "    <tr>\n",
       "      <th>31894</th>\n",
       "      <td>3046</td>\n",
       "      <td>79567</td>\n",
       "      <td>PR</td>\n",
       "      <td>670.0</td>\n",
       "      <td>N/A</td>\n",
       "      <td>N/A</td>\n",
       "      <td>N/A</td>\n",
       "      <td>ORDINARIO</td>\n",
       "      <td>2024-06-01</td>\n",
       "      <td>2024-12-02</td>\n",
       "      <td>46063</td>\n",
       "      <td>40361</td>\n",
       "      <td>39987</td>\n",
       "      <td>3</td>\n",
       "      <td>1</td>\n",
       "      <td>7</td>\n",
       "    </tr>\n",
       "    <tr>\n",
       "      <th>31895</th>\n",
       "      <td>3046</td>\n",
       "      <td>79987</td>\n",
       "      <td>TT</td>\n",
       "      <td>500.0</td>\n",
       "      <td>N/A</td>\n",
       "      <td>N/A</td>\n",
       "      <td>N/A</td>\n",
       "      <td>ORDINARIO</td>\n",
       "      <td>2024-06-01</td>\n",
       "      <td>2024-12-02</td>\n",
       "      <td>46063</td>\n",
       "      <td>40361</td>\n",
       "      <td>39987</td>\n",
       "      <td>3</td>\n",
       "      <td>1</td>\n",
       "      <td>7</td>\n",
       "    </tr>\n",
       "  </tbody>\n",
       "</table>\n",
       "<p>31896 rows × 16 columns</p>\n",
       "</div>"
      ],
      "text/plain": [
       "       numero_sorteo  numero_premiado letras   monto vendedor ciudad  \\\n",
       "0                390               44      P   600.0      N/A    N/A   \n",
       "1                390               80     DT   600.0      N/A    N/A   \n",
       "2                390              129     TT  1000.0      N/A    N/A   \n",
       "3                390              180     DT   600.0      N/A    N/A   \n",
       "4                390              228      P   800.0      N/A    N/A   \n",
       "...              ...              ...    ...     ...      ...    ...   \n",
       "31891           3046            79292      P   700.0      N/A    N/A   \n",
       "31892           3046            79361     TT   600.0      N/A    N/A   \n",
       "31893           3046            79375      P   700.0      N/A    N/A   \n",
       "31894           3046            79567     PR   670.0      N/A    N/A   \n",
       "31895           3046            79987     TT   500.0      N/A    N/A   \n",
       "\n",
       "      departamento     tipo_sorteo fecha_sorteo fecha_caducidad  \\\n",
       "0              N/A  EXTRAORDINARIO   2024-06-08      2024-12-09   \n",
       "1              N/A  EXTRAORDINARIO   2024-06-08      2024-12-09   \n",
       "2              N/A  EXTRAORDINARIO   2024-06-08      2024-12-09   \n",
       "3              N/A  EXTRAORDINARIO   2024-06-08      2024-12-09   \n",
       "4              N/A  EXTRAORDINARIO   2024-06-08      2024-12-09   \n",
       "...            ...             ...          ...             ...   \n",
       "31891          N/A       ORDINARIO   2024-06-01      2024-12-02   \n",
       "31892          N/A       ORDINARIO   2024-06-01      2024-12-02   \n",
       "31893          N/A       ORDINARIO   2024-06-01      2024-12-02   \n",
       "31894          N/A       ORDINARIO   2024-06-01      2024-12-02   \n",
       "31895          N/A       ORDINARIO   2024-06-01      2024-12-02   \n",
       "\n",
       "       primer_premio  segundo_premio  tercer_premio  reintegro_primer_premio  \\\n",
       "0              16780           46129          77885                        0   \n",
       "1              16780           46129          77885                        0   \n",
       "2              16780           46129          77885                        0   \n",
       "3              16780           46129          77885                        0   \n",
       "4              16780           46129          77885                        0   \n",
       "...              ...             ...            ...                      ...   \n",
       "31891          46063           40361          39987                        3   \n",
       "31892          46063           40361          39987                        3   \n",
       "31893          46063           40361          39987                        3   \n",
       "31894          46063           40361          39987                        3   \n",
       "31895          46063           40361          39987                        3   \n",
       "\n",
       "       reintegro_segundo_premio  reintegro_tercer_premio  \n",
       "0                             9                        5  \n",
       "1                             9                        5  \n",
       "2                             9                        5  \n",
       "3                             9                        5  \n",
       "4                             9                        5  \n",
       "...                         ...                      ...  \n",
       "31891                         1                        7  \n",
       "31892                         1                        7  \n",
       "31893                         1                        7  \n",
       "31894                         1                        7  \n",
       "31895                         1                        7  \n",
       "\n",
       "[31896 rows x 16 columns]"
      ]
     },
     "execution_count": 78,
     "metadata": {},
     "output_type": "execute_result"
    }
   ],
   "source": [
    "# replace the null values with \"N/A\"\n",
    "\"\"\"\n",
    "Vendedor, ciudad and departamento are categorical variables, \n",
    "and filling them with N/A does not affect the analysis.\n",
    "\"\"\"\n",
    "\n",
    "df['vendedor'] = df['vendedor'].fillna(\"N/A\")\n",
    "df['ciudad'] = df['ciudad'].fillna(\"N/A\")\n",
    "df['departamento'] = df['departamento'].fillna(\"N/A\")\n",
    "\n",
    "df"
   ]
  },
  {
   "cell_type": "markdown",
   "metadata": {},
   "source": [
    "## What is the Distribution Prize of Loteria Santa Lucia? (InterQuartile Range)"
   ]
  },
  {
   "cell_type": "code",
   "execution_count": 79,
   "metadata": {},
   "outputs": [
    {
     "data": {
      "image/png": "[encoded data removed]",
      "text/plain": [
       "<Figure size 1200x400 with 1 Axes>"
      ]
     },
     "metadata": {},
     "output_type": "display_data"
    }
   ],
   "source": [
    "Q1 = df['monto'].quantile(0.25)\n",
    "Q3 = df['monto'].quantile(0.75)\n",
    "IQR = Q3 - Q1\n",
    "\n",
    "# Filter values within the interquartile range\n",
    "df_filtered_IQR = df[(df['monto'] >= Q1 - 1.5 * IQR) & (df['monto'] <= Q3 + 1.5 * IQR)]\n",
    "\n",
    "plt.figure(figsize=(12, 4))\n",
    "\n",
    "# Create boxplot without outliers\n",
    "sns.boxplot(x=df_filtered_IQR['monto'], color='skyblue')\n",
    "plt.title(\"Distribution of amount of money won (monto) (InterQuartile Rule, IQR)\")\n",
    "plt.xlabel(\"Amount of money won (Quetzales)\")\n",
    "plt.grid(axis='x')\n",
    "plt.show()"
   ]
  },
  {
   "cell_type": "markdown",
   "metadata": {},
   "source": [
    "So with this you can see that 50% of the prizes won are **between Q600.00 and almost Q800.00**\n",
    "With a **median aprox of Q750.00**"
   ]
  },
  {
   "cell_type": "markdown",
   "metadata": {},
   "source": [
    "## What is the distribution of the Winning Numbers of Loteria Santa Lucia?"
   ]
  },
  {
   "cell_type": "code",
   "execution_count": 80,
   "metadata": {},
   "outputs": [
    {
     "data": {
      "image/png": "[encoded data removed]",
      "text/plain": [
       "<Figure size 1200x600 with 1 Axes>"
      ]
     },
     "metadata": {},
     "output_type": "display_data"
    }
   ],
   "source": [
    "plt.figure(figsize=(12, 6))\n",
    "\n",
    "# Create boxplot for the winning numbers\n",
    "sns.boxplot(x=df['numero_premiado'], color='green')\n",
    "plt.title('Boxplot distribution for winning numbers (numero_premiado)')\n",
    "plt.xlabel('Winning Number')\n",
    "plt.grid(axis='x')\n",
    "plt.show()"
   ]
  },
  {
   "cell_type": "markdown",
   "metadata": {},
   "source": [
    "So, in the boxplot you can see that **50%** of winning numbers are located **between 21,000 and 62,000** aprox.\n",
    "With a **median of 42,000**"
   ]
  },
  {
   "cell_type": "markdown",
   "metadata": {},
   "source": [
    "## What is the distribution for the Letter Combinations (letras) of Loteria Santa Lucia? "
   ]
  },
  {
   "cell_type": "code",
   "execution_count": 81,
   "metadata": {},
   "outputs": [
    {
     "data": {
      "image/png": "[encoded data removed]",
      "text/plain": [
       "<Figure size 1500x600 with 1 Axes>"
      ]
     },
     "metadata": {},
     "output_type": "display_data"
    }
   ],
   "source": [
    "plt.figure(figsize=(15, 6))\n",
    "\n",
    "# Create boxplot for letter distribution\n",
    "sns.boxplot(x=df['letras'], color='orange')\n",
    "plt.title('Distribution for letter combinatios (letters)')\n",
    "plt.xlabel('Letter combination (letras)')\n",
    "plt.grid(axis='x')\n",
    "plt.show()"
   ]
  },
  {
   "cell_type": "markdown",
   "metadata": {},
   "source": [
    "### What does this mean? 50% of all letter combinations are located in: P, DT, TT, PR, PDT and C\n",
    "\n",
    "Each letter stands for: \n",
    "\n",
    "**P:** Prmeio (Prize, won some money like Q600)\n",
    "\n",
    "**DT:** Doble terminacion (if 1st, 2nd or 3thd palce finsih with \"55\" any number that also finished with \"55\" will get some money)\n",
    "\n",
    "**TT:** Triple Terminacion (if 1st, 2nd or 3thd place finsih with \"756\" any number that also finished with \"756\" will get some money)\n",
    "\n",
    "**PR:** Premio y Reintegro (Prize and Refund, won some money and you get again a new ticket for next lottery)\n",
    "\n",
    "**PDT:** Premio y Doble Terminacion (Won some money and fished with the last 2 numbers as the 1st, 2nd or 3rd place)\n",
    "\n",
    "**C:** Centena (If the 1st, 2nd or 3thd place has a number like \"55049\" any number between 55000 and 55100 will get some money)"
   ]
  },
  {
   "cell_type": "markdown",
   "metadata": {},
   "source": [
    "## What are the top 5 of most frequent Refounds? (Reintegros) by 1st, 2nd and 3thd place and in General"
   ]
  },
  {
   "cell_type": "code",
   "execution_count": 82,
   "metadata": {},
   "outputs": [
    {
     "data": {
      "image/png": "[encoded data removed]",
      "text/plain": [
       "<Figure size 640x480 with 1 Axes>"
      ]
     },
     "metadata": {},
     "output_type": "display_data"
    },
    {
     "data": {
      "image/png": "[encoded data removed]",
      "text/plain": [
       "<Figure size 640x480 with 1 Axes>"
      ]
     },
     "metadata": {},
     "output_type": "display_data"
    },
    {
     "data": {
      "image/png": "[encoded data removed]",
      "text/plain": [
       "<Figure size 640x480 with 1 Axes>"
      ]
     },
     "metadata": {},
     "output_type": "display_data"
    },
    {
     "data": {
      "image/png": "[encoded data removed]",
      "text/plain": [
       "<Figure size 640x480 with 1 Axes>"
      ]
     },
     "metadata": {},
     "output_type": "display_data"
    }
   ],
   "source": [
    "all_reintegros = pd.concat([\n",
    "    df['reintegro_primer_premio'],\n",
    "    df['reintegro_segundo_premio'],\n",
    "    df['reintegro_tercer_premio']\n",
    "])\n",
    "\n",
    "def plot_top_5_reintegros(column_dataset, plot_title):\n",
    "    top_5 = column_dataset.value_counts().head(5)\n",
    "    \n",
    "    # Create the barplot for the frequency\n",
    "    sns.barplot(x=top_5.index, y=top_5.values, palette='crest', hue=top_5.index, legend=False)\n",
    "    plt.title(plot_title)\n",
    "    plt.xlabel(\"Refounds (Reintegros)\")\n",
    "    plt.ylabel(\"Frecuency\")\n",
    "    plt.show()\n",
    "\n",
    "plot_top_5_reintegros(df['reintegro_primer_premio'], 'Top 5 Reintegros (Primer Premio)')\n",
    "plot_top_5_reintegros(df['reintegro_segundo_premio'], 'Top 5 Reintegros (Segundo Premio)')\n",
    "plot_top_5_reintegros(df['reintegro_tercer_premio'], 'Top 5 Reintegros (Tercer Premio)')\n",
    "plot_top_5_reintegros(all_reintegros, 'Top 5 Reintegros Most Frequent in General')"
   ]
  },
  {
   "cell_type": "markdown",
   "metadata": {},
   "source": [
    "## What is the Percentage of Winning Numbers by Lottery? \n",
    "\n",
    "## (Ordario and Extraordinario)"
   ]
  },
  {
   "cell_type": "markdown",
   "metadata": {},
   "source": [
    "The lotery **'ordinario'** normaly sales up to **80,000 tickets**\n",
    "\n",
    "The **'extraodinario'** can sale up to **90,000 tickets** (in special editions they can sale up to 100,000 tickets)."
   ]
  },
  {
   "cell_type": "code",
   "execution_count": 83,
   "metadata": {},
   "outputs": [
    {
     "name": "stdout",
     "output_type": "stream",
     "text": [
      "Total number of sorteos ordinarios: 24\n",
      "Total number of sorteos extraordinarios: 6\n"
     ]
    }
   ],
   "source": [
    "# See how many 'sorteos' we have in ORDINARIOS and EXTRAORDINARIOS\n",
    "df_ordinarios = df[df['tipo_sorteo'] == 'ORDINARIO']\n",
    "df_extraordinarios = df[df['tipo_sorteo'] == 'EXTRAORDINARIO']\n",
    "\n",
    "total_sorteos_ordinarios = df_ordinarios['numero_sorteo'].nunique()\n",
    "total_sorteos_extraordinarios = df_extraordinarios['numero_sorteo'].nunique()\n",
    "\n",
    "print(f\"Total number of sorteos ordinarios: {total_sorteos_ordinarios}\")\n",
    "print(f\"Total number of sorteos extraordinarios: {total_sorteos_extraordinarios}\")\n",
    "\n"
   ]
  },
  {
   "cell_type": "code",
   "execution_count": 84,
   "metadata": {},
   "outputs": [
    {
     "name": "stdout",
     "output_type": "stream",
     "text": [
      "Total number of winning numbers in ORDINARIO lotteries: 21866\n",
      "Total number of winning numbers in EXTRAORDINARIO lotteries: 10030\n"
     ]
    }
   ],
   "source": [
    "# Total Winning numbers by sorteo ordinario and extraordinario\n",
    "winners_by_sorteo_ordinario = df_ordinarios['numero_premiado'].count()\n",
    "winners_by_sorteo_extraordinario = df_extraordinarios['numero_premiado'].count()\n",
    "\n",
    "winners_by_sorteo_ordinario = winners_by_sorteo_ordinario.sum()\n",
    "winners_by_sorteo_extraordinario = winners_by_sorteo_extraordinario.sum()\n",
    "\n",
    "print(f\"Total number of winning numbers in ORDINARIO lotteries: {winners_by_sorteo_ordinario}\")\n",
    "print(f\"Total number of winning numbers in EXTRAORDINARIO lotteries: {winners_by_sorteo_extraordinario}\")"
   ]
  },
  {
   "cell_type": "markdown",
   "metadata": {},
   "source": [
    "#### Calculate percentage of winning numbers for both ordinario and extraordinario"
   ]
  },
  {
   "cell_type": "code",
   "execution_count": 85,
   "metadata": {},
   "outputs": [
    {
     "name": "stdout",
     "output_type": "stream",
     "text": [
      "Percentage of winning numbers in draws (ordinario): 1.14%\n"
     ]
    }
   ],
   "source": [
    "tickets_issued_ordinario = 80_000\n",
    "\n",
    "# Calculate percentage of winning numbers\n",
    "grand_total_tickets_issued_ordinario = total_sorteos_ordinarios * tickets_issued_ordinario\n",
    "percentage_winning_numbers_ordinario = (winners_by_sorteo_ordinario.sum() / grand_total_tickets_issued_ordinario) * 100\n",
    "print(f\"Percentage of winning numbers in draws (ordinario): {percentage_winning_numbers_ordinario:.2f}%\")"
   ]
  },
  {
   "cell_type": "code",
   "execution_count": 86,
   "metadata": {},
   "outputs": [
    {
     "name": "stdout",
     "output_type": "stream",
     "text": [
      "Percentage of winning numbers in draws (extraordinario): 1.86%\n"
     ]
    }
   ],
   "source": [
    "tickets_issued_extraordinario = 90_000\n",
    "\n",
    "# Calculate percentage of winning numbers\n",
    "grand_total_tickets_issued_extraordinario = total_sorteos_extraordinarios * tickets_issued_extraordinario\n",
    "percentage_winning_numbers_extraordinario = (winners_by_sorteo_extraordinario / grand_total_tickets_issued_extraordinario) * 100\n",
    "print(f\"Percentage of winning numbers in draws (extraordinario): {percentage_winning_numbers_extraordinario:.2f}%\")"
   ]
  },
  {
   "cell_type": "markdown",
   "metadata": {},
   "source": [
    "### Graph percentage of winning numbers"
   ]
  },
  {
   "cell_type": "code",
   "execution_count": 87,
   "metadata": {},
   "outputs": [
    {
     "data": {
      "image/png": "[encoded data removed]",
      "text/plain": [
       "<Figure size 600x600 with 1 Axes>"
      ]
     },
     "metadata": {},
     "output_type": "display_data"
    },
    {
     "data": {
      "image/png": "[encoded data removed]",
      "text/plain": [
       "<Figure size 600x600 with 1 Axes>"
      ]
     },
     "metadata": {},
     "output_type": "display_data"
    }
   ],
   "source": [
    "# data for ordinarios\n",
    "losers_by_sorteo_ordinario = grand_total_tickets_issued_ordinario - winners_by_sorteo_ordinario\n",
    "\n",
    "# data for extraordinarios\n",
    "losers_by_sorteo_extraordinario = grand_total_tickets_issued_extraordinario - winners_by_sorteo_extraordinario\n",
    "\n",
    "# Create labels for pie chart\n",
    "labels_ordinario = ['Winning Numbers (Oridnario)', 'Losing Numbers (Ordinario)']\n",
    "data_ordinario = [winners_by_sorteo_ordinario, losers_by_sorteo_ordinario]\n",
    "\n",
    "labels_extraordinario = ['Winning Numbers (Extraordinario)', 'Losing Numbers (Extrardinario)']\n",
    "data_extraordinario = [winners_by_sorteo_extraordinario, losers_by_sorteo_extraordinario]\n",
    "\n",
    "# Do the pie chart\n",
    "plt.figure(figsize=(6, 6))\n",
    "plt.pie(data_ordinario, labels=labels_ordinario, autopct='%1.2f%%', startangle=60, colors=['green', 'skyblue'])\n",
    "plt.title('Winning vs Losing Numbers (Ordinary Draws)')\n",
    "plt.show()\n",
    "\n",
    "plt.figure(figsize=(6, 6))\n",
    "plt.pie(data_extraordinario, labels=labels_extraordinario, autopct='%1.2f%%', startangle=60, colors=['orange', 'skyblue'])\n",
    "plt.title('Winning vs Losing Numbers (Extraordinary Draws)')\n",
    "plt.show()"
   ]
  },
  {
   "cell_type": "markdown",
   "metadata": {},
   "source": [
    "#### Calculate the Odds of getting a prize (not the big prize, just a prize)"
   ]
  },
  {
   "cell_type": "code",
   "execution_count": 88,
   "metadata": {},
   "outputs": [
    {
     "name": "stdout",
     "output_type": "stream",
     "text": [
      "Odds of winning a prize in a ordinario lottery is 1 in 87\n"
     ]
    }
   ],
   "source": [
    "cumulative_probability_ordinario = (100 - percentage_winning_numbers_ordinario) / percentage_winning_numbers_ordinario\n",
    "print(f\"Odds of winning a prize in a ordinario lottery is 1 in {cumulative_probability_ordinario:.0f}\")"
   ]
  },
  {
   "cell_type": "code",
   "execution_count": 89,
   "metadata": {},
   "outputs": [
    {
     "name": "stdout",
     "output_type": "stream",
     "text": [
      "Odds of winning a prize in a ordinario lottery is 1 in 53\n"
     ]
    }
   ],
   "source": [
    "cumulative_probability_extraordinario = (100 - percentage_winning_numbers_extraordinario) / percentage_winning_numbers_extraordinario\n",
    "print(f\"Odds of winning a prize in a ordinario lottery is 1 in {cumulative_probability_extraordinario:.0f}\")"
   ]
  },
  {
   "cell_type": "markdown",
   "metadata": {},
   "source": [
    "So, answering the question: the percentage of winning numbers for ORDINARIOS draws is **1.14%** and for EXTRAORDINARIOS is **1.86%** something that basically means that in the ORDINARIO draw your chances of winning a prize is **1 in 87** meanwhile in an EXTRAODINARIO one the chances are **1 in 53**, so you have slightly more chances of winning some money in an EXTRAORDINARIO draw. "
   ]
  },
  {
   "cell_type": "markdown",
   "metadata": {},
   "source": [
    "## Profit and expenses of Loteria Santa Lucia"
   ]
  },
  {
   "cell_type": "markdown",
   "metadata": {},
   "source": [
    "### Profit distribution of Loteria Santa Lucia: \n",
    "\n",
    "- 65% for prize payments and refunds.\n",
    "- 16% discount for wholesale buyers who sell Loteria Santa Lucia tickets.\n",
    "- 5% for the operating expenses of Loteria Santa Lucia.\n",
    "- 14% for the economic sustainability of the programs and services of the Benemérito Comité Pro Ciegos y Sordos de Guatemala. \n",
    "\n",
    "[Loteria Santa Lucia](https://loteria.org.gt/site/about-us)"
   ]
  },
  {
   "cell_type": "markdown",
   "metadata": {},
   "source": [
    "The price of the full tickets works as follows: \n",
    "\n",
    "1 \"cachito\" is a piece of 10, 10 \"cachitos\" make a full ticket.\n",
    "\n",
    "Q7.00 by \"cachito\" or **Q70 the full ticket** when the big prize is **less than Q2,200,000**\n",
    "\n",
    "Q15.00 by \"cachito\" or **Q150 the full ticket** when the big prize is **equal or more than Q2,200,000**\n",
    "\n",
    "Q25.00 by \"cachito\" or **Q250 the full ticket** when the big prize is **equal or more than Q4,000,000**\n",
    "\n",
    "Q30.00 by \"cachito\" or **Q300 the full ticket** when the big prize is **equal or more than Q6,000,000**\n",
    "\n",
    "Q35.00 by \"cachito\" or **Q350 the full ticket** when the big prize is **equal or more than Q7,000,000**\n",
    "\n",
    "The lotteries **ORDINARIO** are the ones that cost Q70.00 the full ticket, **EXTRAORDINARIO** ones are from Q15.00 up to Q35.00 or more.\n",
    "\n",
    "[Loteria Santa Lucia Prices](https://loteria.org.gt/site/index)"
   ]
  },
  {
   "cell_type": "markdown",
   "metadata": {},
   "source": [
    "In December 2024 Loteria Santa Lucia made public that they do the lottery once the reach the [80% of tickets sold](https://loteria.org.gt/site/raffle). This in order to be profitable and avoid losses of money. Based on **\"Código Civil Decreto Ley Número 106, Artículo 2139\"** of the [Guatemalan law.](https://www.oas.org/dil/esp/codigo_civil_guatemala.pdf)"
   ]
  },
  {
   "cell_type": "markdown",
   "metadata": {},
   "source": [
    "## How much money does Santa Lucia make from ORDINARIOS and EXTRAORDINARIOS draws, and how much money does each beneficiary party receive?"
   ]
  },
  {
   "cell_type": "code",
   "execution_count": 90,
   "metadata": {},
   "outputs": [],
   "source": [
    "def ticket_price(monto_premio):\n",
    "    if monto_premio < 2_200_000:\n",
    "        return 70 # Price by default, this should not happend in \"extraordinarios\"\n",
    "    elif monto_premio >= 2_200_000 and monto_premio < 4_000_000:\n",
    "        return 150\n",
    "    elif monto_premio >= 4_000_000 and monto_premio < 6_000_000:\n",
    "        return 250\n",
    "    elif monto_premio >= 6_000_000 and monto_premio < 7_000_000:\n",
    "        return 300\n",
    "    elif monto_premio >= 7_000_000:\n",
    "        return 350"
   ]
  },
  {
   "cell_type": "markdown",
   "metadata": {},
   "source": [
    "## Scenario 1: Worst Case Scenario \n",
    "#### They only sold the 80% of all issued tickets in both ORDINARIO and EXTRAORDINARIO draws."
   ]
  },
  {
   "cell_type": "markdown",
   "metadata": {},
   "source": [
    "#### Profits by ORDINARIO"
   ]
  },
  {
   "cell_type": "code",
   "execution_count": 91,
   "metadata": {},
   "outputs": [
    {
     "data": {
      "text/html": [
       "<div>\n",
       "<style scoped>\n",
       "    .dataframe tbody tr th:only-of-type {\n",
       "        vertical-align: middle;\n",
       "    }\n",
       "\n",
       "    .dataframe tbody tr th {\n",
       "        vertical-align: top;\n",
       "    }\n",
       "\n",
       "    .dataframe thead th {\n",
       "        text-align: right;\n",
       "    }\n",
       "</style>\n",
       "<table border=\"1\" class=\"dataframe\">\n",
       "  <thead>\n",
       "    <tr style=\"text-align: right;\">\n",
       "      <th></th>\n",
       "      <th>numero_sorteo</th>\n",
       "      <th>numero_premiado</th>\n",
       "      <th>letras</th>\n",
       "      <th>monto</th>\n",
       "      <th>vendedor</th>\n",
       "      <th>ciudad</th>\n",
       "      <th>departamento</th>\n",
       "      <th>tipo_sorteo</th>\n",
       "      <th>fecha_sorteo</th>\n",
       "      <th>fecha_caducidad</th>\n",
       "      <th>primer_premio</th>\n",
       "      <th>segundo_premio</th>\n",
       "      <th>tercer_premio</th>\n",
       "      <th>reintegro_primer_premio</th>\n",
       "      <th>reintegro_segundo_premio</th>\n",
       "      <th>reintegro_tercer_premio</th>\n",
       "    </tr>\n",
       "  </thead>\n",
       "  <tbody>\n",
       "    <tr>\n",
       "      <th>1609</th>\n",
       "      <td>3047</td>\n",
       "      <td>61</td>\n",
       "      <td>TT</td>\n",
       "      <td>600.0</td>\n",
       "      <td>N/A</td>\n",
       "      <td>N/A</td>\n",
       "      <td>N/A</td>\n",
       "      <td>ORDINARIO</td>\n",
       "      <td>2024-06-15</td>\n",
       "      <td>2024-12-16</td>\n",
       "      <td>45100</td>\n",
       "      <td>74061</td>\n",
       "      <td>53248</td>\n",
       "      <td>0</td>\n",
       "      <td>1</td>\n",
       "      <td>8</td>\n",
       "    </tr>\n",
       "    <tr>\n",
       "      <th>1610</th>\n",
       "      <td>3047</td>\n",
       "      <td>100</td>\n",
       "      <td>TT</td>\n",
       "      <td>700.0</td>\n",
       "      <td>N/A</td>\n",
       "      <td>N/A</td>\n",
       "      <td>N/A</td>\n",
       "      <td>ORDINARIO</td>\n",
       "      <td>2024-06-15</td>\n",
       "      <td>2024-12-16</td>\n",
       "      <td>45100</td>\n",
       "      <td>74061</td>\n",
       "      <td>53248</td>\n",
       "      <td>0</td>\n",
       "      <td>1</td>\n",
       "      <td>8</td>\n",
       "    </tr>\n",
       "    <tr>\n",
       "      <th>1611</th>\n",
       "      <td>3047</td>\n",
       "      <td>150</td>\n",
       "      <td>PR</td>\n",
       "      <td>2070.0</td>\n",
       "      <td>ESDVIN ESTUARDO ROBLES VELÁSQUEZ</td>\n",
       "      <td>DE ESTA CAPITAL</td>\n",
       "      <td>GUATEMALA</td>\n",
       "      <td>ORDINARIO</td>\n",
       "      <td>2024-06-15</td>\n",
       "      <td>2024-12-16</td>\n",
       "      <td>45100</td>\n",
       "      <td>74061</td>\n",
       "      <td>53248</td>\n",
       "      <td>0</td>\n",
       "      <td>1</td>\n",
       "      <td>8</td>\n",
       "    </tr>\n",
       "    <tr>\n",
       "      <th>1612</th>\n",
       "      <td>3047</td>\n",
       "      <td>195</td>\n",
       "      <td>P</td>\n",
       "      <td>700.0</td>\n",
       "      <td>N/A</td>\n",
       "      <td>N/A</td>\n",
       "      <td>N/A</td>\n",
       "      <td>ORDINARIO</td>\n",
       "      <td>2024-06-15</td>\n",
       "      <td>2024-12-16</td>\n",
       "      <td>45100</td>\n",
       "      <td>74061</td>\n",
       "      <td>53248</td>\n",
       "      <td>0</td>\n",
       "      <td>1</td>\n",
       "      <td>8</td>\n",
       "    </tr>\n",
       "    <tr>\n",
       "      <th>1613</th>\n",
       "      <td>3047</td>\n",
       "      <td>205</td>\n",
       "      <td>P</td>\n",
       "      <td>2000.0</td>\n",
       "      <td>ROBERTO MARROQUÍN AYALA</td>\n",
       "      <td>DE ESTA CAPITAL</td>\n",
       "      <td>GUATEMALA</td>\n",
       "      <td>ORDINARIO</td>\n",
       "      <td>2024-06-15</td>\n",
       "      <td>2024-12-16</td>\n",
       "      <td>45100</td>\n",
       "      <td>74061</td>\n",
       "      <td>53248</td>\n",
       "      <td>0</td>\n",
       "      <td>1</td>\n",
       "      <td>8</td>\n",
       "    </tr>\n",
       "  </tbody>\n",
       "</table>\n",
       "</div>"
      ],
      "text/plain": [
       "      numero_sorteo  numero_premiado letras   monto  \\\n",
       "1609           3047               61     TT   600.0   \n",
       "1610           3047              100     TT   700.0   \n",
       "1611           3047              150     PR  2070.0   \n",
       "1612           3047              195      P   700.0   \n",
       "1613           3047              205      P  2000.0   \n",
       "\n",
       "                              vendedor           ciudad departamento  \\\n",
       "1609                               N/A              N/A          N/A   \n",
       "1610                               N/A              N/A          N/A   \n",
       "1611  ESDVIN ESTUARDO ROBLES VELÁSQUEZ  DE ESTA CAPITAL    GUATEMALA   \n",
       "1612                               N/A              N/A          N/A   \n",
       "1613           ROBERTO MARROQUÍN AYALA  DE ESTA CAPITAL    GUATEMALA   \n",
       "\n",
       "     tipo_sorteo fecha_sorteo fecha_caducidad  primer_premio  segundo_premio  \\\n",
       "1609   ORDINARIO   2024-06-15      2024-12-16          45100           74061   \n",
       "1610   ORDINARIO   2024-06-15      2024-12-16          45100           74061   \n",
       "1611   ORDINARIO   2024-06-15      2024-12-16          45100           74061   \n",
       "1612   ORDINARIO   2024-06-15      2024-12-16          45100           74061   \n",
       "1613   ORDINARIO   2024-06-15      2024-12-16          45100           74061   \n",
       "\n",
       "      tercer_premio  reintegro_primer_premio  reintegro_segundo_premio  \\\n",
       "1609          53248                        0                         1   \n",
       "1610          53248                        0                         1   \n",
       "1611          53248                        0                         1   \n",
       "1612          53248                        0                         1   \n",
       "1613          53248                        0                         1   \n",
       "\n",
       "      reintegro_tercer_premio  \n",
       "1609                        8  \n",
       "1610                        8  \n",
       "1611                        8  \n",
       "1612                        8  \n",
       "1613                        8  "
      ]
     },
     "execution_count": 91,
     "metadata": {},
     "output_type": "execute_result"
    }
   ],
   "source": [
    "df_ordinarios.head()"
   ]
  },
  {
   "cell_type": "code",
   "execution_count": 92,
   "metadata": {},
   "outputs": [
    {
     "data": {
      "text/html": [
       "<div>\n",
       "<style scoped>\n",
       "    .dataframe tbody tr th:only-of-type {\n",
       "        vertical-align: middle;\n",
       "    }\n",
       "\n",
       "    .dataframe tbody tr th {\n",
       "        vertical-align: top;\n",
       "    }\n",
       "\n",
       "    .dataframe thead th {\n",
       "        text-align: right;\n",
       "    }\n",
       "</style>\n",
       "<table border=\"1\" class=\"dataframe\">\n",
       "  <thead>\n",
       "    <tr style=\"text-align: right;\">\n",
       "      <th></th>\n",
       "      <th>fecha_sorteo</th>\n",
       "      <th>numero_sorteo</th>\n",
       "      <th>numero_premiado</th>\n",
       "      <th>monto</th>\n",
       "      <th>ticket_price</th>\n",
       "    </tr>\n",
       "  </thead>\n",
       "  <tbody>\n",
       "    <tr>\n",
       "      <th>23</th>\n",
       "      <td>2024-06-01</td>\n",
       "      <td>3046</td>\n",
       "      <td>46063</td>\n",
       "      <td>1000000.0</td>\n",
       "      <td>70</td>\n",
       "    </tr>\n",
       "    <tr>\n",
       "      <th>0</th>\n",
       "      <td>2024-06-15</td>\n",
       "      <td>3047</td>\n",
       "      <td>45100</td>\n",
       "      <td>1000000.0</td>\n",
       "      <td>70</td>\n",
       "    </tr>\n",
       "    <tr>\n",
       "      <th>1</th>\n",
       "      <td>2024-06-22</td>\n",
       "      <td>3048</td>\n",
       "      <td>74569</td>\n",
       "      <td>1000000.0</td>\n",
       "      <td>70</td>\n",
       "    </tr>\n",
       "    <tr>\n",
       "      <th>2</th>\n",
       "      <td>2024-06-29</td>\n",
       "      <td>3049</td>\n",
       "      <td>8241</td>\n",
       "      <td>1000000.0</td>\n",
       "      <td>70</td>\n",
       "    </tr>\n",
       "    <tr>\n",
       "      <th>3</th>\n",
       "      <td>2024-07-06</td>\n",
       "      <td>3050</td>\n",
       "      <td>72487</td>\n",
       "      <td>1000000.0</td>\n",
       "      <td>70</td>\n",
       "    </tr>\n",
       "  </tbody>\n",
       "</table>\n",
       "</div>"
      ],
      "text/plain": [
       "   fecha_sorteo  numero_sorteo  numero_premiado      monto  ticket_price\n",
       "23   2024-06-01           3046            46063  1000000.0            70\n",
       "0    2024-06-15           3047            45100  1000000.0            70\n",
       "1    2024-06-22           3048            74569  1000000.0            70\n",
       "2    2024-06-29           3049             8241  1000000.0            70\n",
       "3    2024-07-06           3050            72487  1000000.0            70"
      ]
     },
     "execution_count": 92,
     "metadata": {},
     "output_type": "execute_result"
    }
   ],
   "source": [
    "# Extract only the 1st place numbers, number of draw and amount won of the draw\n",
    "big_prize_won_ordinario = df_ordinarios[df_ordinarios['numero_premiado'] == df_ordinarios['primer_premio']]\n",
    "big_prize_won_ordinario = big_prize_won_ordinario.reset_index()\n",
    "big_prize_won_ordinario = big_prize_won_ordinario[['fecha_sorteo', 'numero_sorteo', 'numero_premiado', 'monto']]\n",
    "\n",
    "# Add the price of the ticket for each draw\n",
    "big_prize_won_ordinario['ticket_price'] = big_prize_won_ordinario['monto'].apply(ticket_price)\n",
    "big_prize_won_ordinario = big_prize_won_ordinario.sort_values('fecha_sorteo', ascending=True)\n",
    "\n",
    "big_prize_won_ordinario.head()\n"
   ]
  },
  {
   "cell_type": "code",
   "execution_count": 93,
   "metadata": {},
   "outputs": [
    {
     "name": "stdout",
     "output_type": "stream",
     "text": [
      "Total revenue from ordinary draws in the worst case scenario: Q107,520,000\n"
     ]
    }
   ],
   "source": [
    "big_prize_won_ordinario['tickets_sold_80_percent'] = 64_000 # 80% of 80,000 of the tickets for each draw\n",
    "\n",
    "# Calculate total profits for each draw\n",
    "big_prize_won_ordinario['total_revenue'] = big_prize_won_ordinario['tickets_sold_80_percent'] * big_prize_won_ordinario['ticket_price']\n",
    "\n",
    "# Calculate all total profits of 'ORDINARIO' draws\n",
    "total_revenue_ordinarios = big_prize_won_ordinario['total_revenue'].sum()\n",
    "print(f\"Total revenue from ordinary draws in the worst case scenario: Q{total_revenue_ordinarios:,}\")"
   ]
  },
  {
   "cell_type": "markdown",
   "metadata": {},
   "source": [
    "#### Weekly Average profit for \"ORDINARIO\" draws"
   ]
  },
  {
   "cell_type": "code",
   "execution_count": 94,
   "metadata": {},
   "outputs": [
    {
     "name": "stdout",
     "output_type": "stream",
     "text": [
      "In the worst case scenario: The total weekly average profit of 'ORDINARIO' draws is: Q4,480,000.0\n"
     ]
    }
   ],
   "source": [
    "weekly_average_profit_ord = total_revenue_ordinarios / len(big_prize_won_ordinario)\n",
    "print(f\"In the worst case scenario: The total weekly average profit of 'ORDINARIO' draws is: Q{weekly_average_profit_ord:,}\")"
   ]
  },
  {
   "cell_type": "markdown",
   "metadata": {},
   "source": [
    "### Profist for EXTRAORDINARIO"
   ]
  },
  {
   "cell_type": "code",
   "execution_count": 95,
   "metadata": {},
   "outputs": [
    {
     "data": {
      "text/html": [
       "<div>\n",
       "<style scoped>\n",
       "    .dataframe tbody tr th:only-of-type {\n",
       "        vertical-align: middle;\n",
       "    }\n",
       "\n",
       "    .dataframe tbody tr th {\n",
       "        vertical-align: top;\n",
       "    }\n",
       "\n",
       "    .dataframe thead th {\n",
       "        text-align: right;\n",
       "    }\n",
       "</style>\n",
       "<table border=\"1\" class=\"dataframe\">\n",
       "  <thead>\n",
       "    <tr style=\"text-align: right;\">\n",
       "      <th></th>\n",
       "      <th>numero_sorteo</th>\n",
       "      <th>numero_premiado</th>\n",
       "      <th>letras</th>\n",
       "      <th>monto</th>\n",
       "      <th>vendedor</th>\n",
       "      <th>ciudad</th>\n",
       "      <th>departamento</th>\n",
       "      <th>tipo_sorteo</th>\n",
       "      <th>fecha_sorteo</th>\n",
       "      <th>fecha_caducidad</th>\n",
       "      <th>primer_premio</th>\n",
       "      <th>segundo_premio</th>\n",
       "      <th>tercer_premio</th>\n",
       "      <th>reintegro_primer_premio</th>\n",
       "      <th>reintegro_segundo_premio</th>\n",
       "      <th>reintegro_tercer_premio</th>\n",
       "    </tr>\n",
       "  </thead>\n",
       "  <tbody>\n",
       "    <tr>\n",
       "      <th>0</th>\n",
       "      <td>390</td>\n",
       "      <td>44</td>\n",
       "      <td>P</td>\n",
       "      <td>600.0</td>\n",
       "      <td>N/A</td>\n",
       "      <td>N/A</td>\n",
       "      <td>N/A</td>\n",
       "      <td>EXTRAORDINARIO</td>\n",
       "      <td>2024-06-08</td>\n",
       "      <td>2024-12-09</td>\n",
       "      <td>16780</td>\n",
       "      <td>46129</td>\n",
       "      <td>77885</td>\n",
       "      <td>0</td>\n",
       "      <td>9</td>\n",
       "      <td>5</td>\n",
       "    </tr>\n",
       "    <tr>\n",
       "      <th>1</th>\n",
       "      <td>390</td>\n",
       "      <td>80</td>\n",
       "      <td>DT</td>\n",
       "      <td>600.0</td>\n",
       "      <td>N/A</td>\n",
       "      <td>N/A</td>\n",
       "      <td>N/A</td>\n",
       "      <td>EXTRAORDINARIO</td>\n",
       "      <td>2024-06-08</td>\n",
       "      <td>2024-12-09</td>\n",
       "      <td>16780</td>\n",
       "      <td>46129</td>\n",
       "      <td>77885</td>\n",
       "      <td>0</td>\n",
       "      <td>9</td>\n",
       "      <td>5</td>\n",
       "    </tr>\n",
       "    <tr>\n",
       "      <th>2</th>\n",
       "      <td>390</td>\n",
       "      <td>129</td>\n",
       "      <td>TT</td>\n",
       "      <td>1000.0</td>\n",
       "      <td>N/A</td>\n",
       "      <td>N/A</td>\n",
       "      <td>N/A</td>\n",
       "      <td>EXTRAORDINARIO</td>\n",
       "      <td>2024-06-08</td>\n",
       "      <td>2024-12-09</td>\n",
       "      <td>16780</td>\n",
       "      <td>46129</td>\n",
       "      <td>77885</td>\n",
       "      <td>0</td>\n",
       "      <td>9</td>\n",
       "      <td>5</td>\n",
       "    </tr>\n",
       "    <tr>\n",
       "      <th>3</th>\n",
       "      <td>390</td>\n",
       "      <td>180</td>\n",
       "      <td>DT</td>\n",
       "      <td>600.0</td>\n",
       "      <td>N/A</td>\n",
       "      <td>N/A</td>\n",
       "      <td>N/A</td>\n",
       "      <td>EXTRAORDINARIO</td>\n",
       "      <td>2024-06-08</td>\n",
       "      <td>2024-12-09</td>\n",
       "      <td>16780</td>\n",
       "      <td>46129</td>\n",
       "      <td>77885</td>\n",
       "      <td>0</td>\n",
       "      <td>9</td>\n",
       "      <td>5</td>\n",
       "    </tr>\n",
       "    <tr>\n",
       "      <th>4</th>\n",
       "      <td>390</td>\n",
       "      <td>228</td>\n",
       "      <td>P</td>\n",
       "      <td>800.0</td>\n",
       "      <td>N/A</td>\n",
       "      <td>N/A</td>\n",
       "      <td>N/A</td>\n",
       "      <td>EXTRAORDINARIO</td>\n",
       "      <td>2024-06-08</td>\n",
       "      <td>2024-12-09</td>\n",
       "      <td>16780</td>\n",
       "      <td>46129</td>\n",
       "      <td>77885</td>\n",
       "      <td>0</td>\n",
       "      <td>9</td>\n",
       "      <td>5</td>\n",
       "    </tr>\n",
       "  </tbody>\n",
       "</table>\n",
       "</div>"
      ],
      "text/plain": [
       "   numero_sorteo  numero_premiado letras   monto vendedor ciudad departamento  \\\n",
       "0            390               44      P   600.0      N/A    N/A          N/A   \n",
       "1            390               80     DT   600.0      N/A    N/A          N/A   \n",
       "2            390              129     TT  1000.0      N/A    N/A          N/A   \n",
       "3            390              180     DT   600.0      N/A    N/A          N/A   \n",
       "4            390              228      P   800.0      N/A    N/A          N/A   \n",
       "\n",
       "      tipo_sorteo fecha_sorteo fecha_caducidad  primer_premio  segundo_premio  \\\n",
       "0  EXTRAORDINARIO   2024-06-08      2024-12-09          16780           46129   \n",
       "1  EXTRAORDINARIO   2024-06-08      2024-12-09          16780           46129   \n",
       "2  EXTRAORDINARIO   2024-06-08      2024-12-09          16780           46129   \n",
       "3  EXTRAORDINARIO   2024-06-08      2024-12-09          16780           46129   \n",
       "4  EXTRAORDINARIO   2024-06-08      2024-12-09          16780           46129   \n",
       "\n",
       "   tercer_premio  reintegro_primer_premio  reintegro_segundo_premio  \\\n",
       "0          77885                        0                         9   \n",
       "1          77885                        0                         9   \n",
       "2          77885                        0                         9   \n",
       "3          77885                        0                         9   \n",
       "4          77885                        0                         9   \n",
       "\n",
       "   reintegro_tercer_premio  \n",
       "0                        5  \n",
       "1                        5  \n",
       "2                        5  \n",
       "3                        5  \n",
       "4                        5  "
      ]
     },
     "execution_count": 95,
     "metadata": {},
     "output_type": "execute_result"
    }
   ],
   "source": [
    "df_extraordinarios.head()"
   ]
  },
  {
   "cell_type": "code",
   "execution_count": 96,
   "metadata": {},
   "outputs": [
    {
     "data": {
      "text/html": [
       "<div>\n",
       "<style scoped>\n",
       "    .dataframe tbody tr th:only-of-type {\n",
       "        vertical-align: middle;\n",
       "    }\n",
       "\n",
       "    .dataframe tbody tr th {\n",
       "        vertical-align: top;\n",
       "    }\n",
       "\n",
       "    .dataframe thead th {\n",
       "        text-align: right;\n",
       "    }\n",
       "</style>\n",
       "<table border=\"1\" class=\"dataframe\">\n",
       "  <thead>\n",
       "    <tr style=\"text-align: right;\">\n",
       "      <th></th>\n",
       "      <th>fecha_sorteo</th>\n",
       "      <th>numero_sorteo</th>\n",
       "      <th>numero_premiado</th>\n",
       "      <th>monto</th>\n",
       "      <th>ticket_price</th>\n",
       "    </tr>\n",
       "  </thead>\n",
       "  <tbody>\n",
       "    <tr>\n",
       "      <th>0</th>\n",
       "      <td>2024-06-08</td>\n",
       "      <td>390</td>\n",
       "      <td>16780</td>\n",
       "      <td>2200000.0</td>\n",
       "      <td>150</td>\n",
       "    </tr>\n",
       "    <tr>\n",
       "      <th>1</th>\n",
       "      <td>2024-07-21</td>\n",
       "      <td>391</td>\n",
       "      <td>1095</td>\n",
       "      <td>5000000.0</td>\n",
       "      <td>250</td>\n",
       "    </tr>\n",
       "    <tr>\n",
       "      <th>2</th>\n",
       "      <td>2024-08-17</td>\n",
       "      <td>392</td>\n",
       "      <td>78858</td>\n",
       "      <td>2200000.0</td>\n",
       "      <td>150</td>\n",
       "    </tr>\n",
       "    <tr>\n",
       "      <th>3</th>\n",
       "      <td>2024-09-21</td>\n",
       "      <td>393</td>\n",
       "      <td>39647</td>\n",
       "      <td>2200150.0</td>\n",
       "      <td>150</td>\n",
       "    </tr>\n",
       "    <tr>\n",
       "      <th>4</th>\n",
       "      <td>2024-10-19</td>\n",
       "      <td>394</td>\n",
       "      <td>59456</td>\n",
       "      <td>2200000.0</td>\n",
       "      <td>150</td>\n",
       "    </tr>\n",
       "    <tr>\n",
       "      <th>5</th>\n",
       "      <td>2024-11-23</td>\n",
       "      <td>395</td>\n",
       "      <td>55049</td>\n",
       "      <td>2200000.0</td>\n",
       "      <td>150</td>\n",
       "    </tr>\n",
       "  </tbody>\n",
       "</table>\n",
       "</div>"
      ],
      "text/plain": [
       "  fecha_sorteo  numero_sorteo  numero_premiado      monto  ticket_price\n",
       "0   2024-06-08            390            16780  2200000.0           150\n",
       "1   2024-07-21            391             1095  5000000.0           250\n",
       "2   2024-08-17            392            78858  2200000.0           150\n",
       "3   2024-09-21            393            39647  2200150.0           150\n",
       "4   2024-10-19            394            59456  2200000.0           150\n",
       "5   2024-11-23            395            55049  2200000.0           150"
      ]
     },
     "execution_count": 96,
     "metadata": {},
     "output_type": "execute_result"
    }
   ],
   "source": [
    "# Extract only the 1st place numbers, number of draw and amount won of the draw\n",
    "big_prize_won_extraordinario = df_extraordinarios[df_extraordinarios['primer_premio'] == df_extraordinarios['numero_premiado']]\n",
    "big_prize_won_extraordinario = big_prize_won_extraordinario.reset_index()\n",
    "big_prize_won_extraordinario = big_prize_won_extraordinario[['fecha_sorteo', 'numero_sorteo', 'numero_premiado', 'monto']]\n",
    "\n",
    "# Add the price of the ticket for each draw\n",
    "big_prize_won_extraordinario['ticket_price'] = big_prize_won_extraordinario['monto'].apply(ticket_price)\n",
    "big_prize_won_extraordinario = big_prize_won_extraordinario.sort_values('fecha_sorteo', ascending=True)\n",
    "big_prize_won_extraordinario"
   ]
  },
  {
   "cell_type": "code",
   "execution_count": 97,
   "metadata": {},
   "outputs": [
    {
     "name": "stdout",
     "output_type": "stream",
     "text": [
      "Total revenue from ordinary draws in the worst case scenario: Q72,000,000\n"
     ]
    }
   ],
   "source": [
    "big_prize_won_extraordinario['tickets_sold_80_percent'] = 72_000 # 80% of 90,000 of the tickets for each draw\n",
    "\n",
    "# Calculate total profits for each draw\n",
    "big_prize_won_extraordinario['total_revenue'] = big_prize_won_extraordinario['tickets_sold_80_percent'] * big_prize_won_extraordinario['ticket_price']\n",
    "\n",
    "# Calculate all total profits of 'ORDINARIO' draws\n",
    "total_revenue_extraordinarios = big_prize_won_extraordinario['total_revenue'].sum()\n",
    "print(f\"Total revenue from ordinary draws in the worst case scenario: Q{total_revenue_extraordinarios:,}\")"
   ]
  },
  {
   "cell_type": "markdown",
   "metadata": {},
   "source": [
    "#### Average profit for \"EXTRAORDINARIO\" draws"
   ]
  },
  {
   "cell_type": "code",
   "execution_count": 98,
   "metadata": {},
   "outputs": [
    {
     "name": "stdout",
     "output_type": "stream",
     "text": [
      "In the worst case scenario: The total average profit of 'EXTRAORDINARIO' draws is: Q12,000,000.0\n"
     ]
    }
   ],
   "source": [
    "average_profit_extord = total_revenue_extraordinarios / len(big_prize_won_extraordinario)\n",
    "print(f\"In the worst case scenario: The total average profit of 'EXTRAORDINARIO' draws is: Q{average_profit_extord:,}\")"
   ]
  },
  {
   "cell_type": "markdown",
   "metadata": {},
   "source": [
    "### Scenario 2: Best Case Scenario \n",
    "They sold the 100% of all issued tickets in both ORDINARIO and EXTRAORDINARIO draws."
   ]
  },
  {
   "cell_type": "markdown",
   "metadata": {},
   "source": [
    "#### Calculate profits for ORDINARIO "
   ]
  },
  {
   "cell_type": "code",
   "execution_count": 99,
   "metadata": {},
   "outputs": [
    {
     "name": "stdout",
     "output_type": "stream",
     "text": [
      "Total revenue from ordinary draws in the best case scenario: Q134,400,000\n"
     ]
    }
   ],
   "source": [
    "big_prize_won_ordinario['tickets_sold_100_percent'] = 80_000\n",
    "\n",
    "# Calculate total profits for each draw\n",
    "big_prize_won_ordinario['total_revenue'] = big_prize_won_ordinario['tickets_sold_100_percent'] * big_prize_won_ordinario['ticket_price']\n",
    "\n",
    "# Calculate all total profits of 'ORDINARIO' draws\n",
    "total_revenue_ordinarios = big_prize_won_ordinario['total_revenue'].sum()\n",
    "print(f\"Total revenue from ordinary draws in the best case scenario: Q{total_revenue_ordinarios:,}\")"
   ]
  },
  {
   "cell_type": "markdown",
   "metadata": {},
   "source": [
    "#### Weekly Average profit for \"ORDINARIO\" draws"
   ]
  },
  {
   "cell_type": "code",
   "execution_count": 100,
   "metadata": {},
   "outputs": [
    {
     "name": "stdout",
     "output_type": "stream",
     "text": [
      "In the worst case scenario: The total weekly average profit of 'ORDINARIO' draws is: Q5,600,000.0\n"
     ]
    }
   ],
   "source": [
    "weekly_average_profit_ord_scenario_2 = total_revenue_ordinarios / len(big_prize_won_ordinario)\n",
    "print(f\"In the worst case scenario: The total weekly average profit of 'ORDINARIO' draws is: Q{weekly_average_profit_ord_scenario_2:,}\")"
   ]
  },
  {
   "cell_type": "markdown",
   "metadata": {},
   "source": [
    "#### Calculate profits for  EXTRAORDINARIO "
   ]
  },
  {
   "cell_type": "code",
   "execution_count": 101,
   "metadata": {},
   "outputs": [
    {
     "name": "stdout",
     "output_type": "stream",
     "text": [
      "Total revenue from ordinary draws in the best case scenario: Q90,000,000\n"
     ]
    }
   ],
   "source": [
    "big_prize_won_extraordinario['tickets_sold_100_percent'] = 90_000\n",
    "\n",
    "# Calculate total profits for each draw\n",
    "big_prize_won_extraordinario['total_revenue'] = big_prize_won_extraordinario['tickets_sold_100_percent'] * big_prize_won_extraordinario['ticket_price']\n",
    "\n",
    "# Calculate all total profits of 'ORDINARIO' draws\n",
    "total_revenue_extraordinarios = big_prize_won_extraordinario['total_revenue'].sum()\n",
    "print(f\"Total revenue from ordinary draws in the best case scenario: Q{total_revenue_extraordinarios:,}\")"
   ]
  },
  {
   "cell_type": "markdown",
   "metadata": {},
   "source": [
    "#### Average profit for \"EXTRAORDINARIO\" draws"
   ]
  },
  {
   "cell_type": "code",
   "execution_count": 102,
   "metadata": {},
   "outputs": [
    {
     "name": "stdout",
     "output_type": "stream",
     "text": [
      "In the worst case scenario: The total average profit of 'EXTRAORDINARIO' draws is: Q15,000,000.0\n"
     ]
    }
   ],
   "source": [
    "average_profit_extord = total_revenue_extraordinarios / len(big_prize_won_extraordinario)\n",
    "print(f\"In the worst case scenario: The total average profit of 'EXTRAORDINARIO' draws is: Q{average_profit_extord:,}\")"
   ]
  },
  {
   "cell_type": "markdown",
   "metadata": {},
   "source": [
    "### Graph for profits for ORDINARIO and EXTRAORDINARIO"
   ]
  },
  {
   "cell_type": "code",
   "execution_count": null,
   "metadata": {},
   "outputs": [],
   "source": []
  },
  {
   "cell_type": "markdown",
   "metadata": {},
   "source": [
    "## Que relacion tienen los numeros ganadores que tienen precios entre los Q600 y Q800 con los premios mayores?"
   ]
  },
  {
   "cell_type": "markdown",
   "metadata": {},
   "source": [
    "## Que relacion existe entre los numeros con letas P, DT, TT, PR, PDT, C con los numeros ganadores? "
   ]
  }
 ],
 "metadata": {
  "kernelspec": {
   "display_name": "loteria-env",
   "language": "python",
   "name": "python3"
  },
  "language_info": {
   "codemirror_mode": {
    "name": "ipython",
    "version": 3
   },
   "file_extension": ".py",
   "mimetype": "text/x-python",
   "name": "python",
   "nbconvert_exporter": "python",
   "pygments_lexer": "ipython3",
   "version": "3.13.1"
  }
 },
 "nbformat": 4,
 "nbformat_minor": 2
}

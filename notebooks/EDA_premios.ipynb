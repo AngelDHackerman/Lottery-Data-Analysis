{
 "cells": [
  {
   "cell_type": "markdown",
   "metadata": {},
   "source": [
    "# Objetive: "
   ]
  },
  {
   "cell_type": "markdown",
   "metadata": {},
   "source": [
    "### 1. Setup"
   ]
  },
  {
   "cell_type": "code",
   "execution_count": 1,
   "metadata": {},
   "outputs": [],
   "source": [
    "import pandas as pd\n",
    "import matplotlib.pyplot as plt\n",
    "import seaborn as sns"
   ]
  },
  {
   "cell_type": "code",
   "execution_count": 2,
   "metadata": {},
   "outputs": [],
   "source": [
    "# Set the style\n",
    "plt.style.use(\"ggplot\")\n",
    "sns.set_theme()"
   ]
  },
  {
   "cell_type": "code",
   "execution_count": 3,
   "metadata": {},
   "outputs": [],
   "source": [
    "# Load dataset\n",
    "file_path = \"../Data/downloaded/premios_export.csv\"\n",
    "df = pd.read_csv(file_path)"
   ]
  },
  {
   "cell_type": "markdown",
   "metadata": {},
   "source": [
    "### 2. Explore the data"
   ]
  },
  {
   "cell_type": "code",
   "execution_count": 4,
   "metadata": {},
   "outputs": [
    {
     "data": {
      "text/html": [
       "<div>\n",
       "<style scoped>\n",
       "    .dataframe tbody tr th:only-of-type {\n",
       "        vertical-align: middle;\n",
       "    }\n",
       "\n",
       "    .dataframe tbody tr th {\n",
       "        vertical-align: top;\n",
       "    }\n",
       "\n",
       "    .dataframe thead th {\n",
       "        text-align: right;\n",
       "    }\n",
       "</style>\n",
       "<table border=\"1\" class=\"dataframe\">\n",
       "  <thead>\n",
       "    <tr style=\"text-align: right;\">\n",
       "      <th></th>\n",
       "      <th>id</th>\n",
       "      <th>numero_sorteo</th>\n",
       "      <th>numero_premiado</th>\n",
       "      <th>letras</th>\n",
       "      <th>monto</th>\n",
       "      <th>vendedor</th>\n",
       "      <th>ciudad</th>\n",
       "      <th>departamento</th>\n",
       "    </tr>\n",
       "  </thead>\n",
       "  <tbody>\n",
       "    <tr>\n",
       "      <th>0</th>\n",
       "      <td>87814</td>\n",
       "      <td>390</td>\n",
       "      <td>44</td>\n",
       "      <td>P</td>\n",
       "      <td>600.0</td>\n",
       "      <td>NaN</td>\n",
       "      <td>NaN</td>\n",
       "      <td>NaN</td>\n",
       "    </tr>\n",
       "    <tr>\n",
       "      <th>1</th>\n",
       "      <td>87815</td>\n",
       "      <td>390</td>\n",
       "      <td>80</td>\n",
       "      <td>DT</td>\n",
       "      <td>600.0</td>\n",
       "      <td>NaN</td>\n",
       "      <td>NaN</td>\n",
       "      <td>NaN</td>\n",
       "    </tr>\n",
       "    <tr>\n",
       "      <th>2</th>\n",
       "      <td>87816</td>\n",
       "      <td>390</td>\n",
       "      <td>129</td>\n",
       "      <td>TT</td>\n",
       "      <td>1000.0</td>\n",
       "      <td>NaN</td>\n",
       "      <td>NaN</td>\n",
       "      <td>NaN</td>\n",
       "    </tr>\n",
       "    <tr>\n",
       "      <th>3</th>\n",
       "      <td>87817</td>\n",
       "      <td>390</td>\n",
       "      <td>180</td>\n",
       "      <td>DT</td>\n",
       "      <td>600.0</td>\n",
       "      <td>NaN</td>\n",
       "      <td>NaN</td>\n",
       "      <td>NaN</td>\n",
       "    </tr>\n",
       "    <tr>\n",
       "      <th>4</th>\n",
       "      <td>87818</td>\n",
       "      <td>390</td>\n",
       "      <td>228</td>\n",
       "      <td>P</td>\n",
       "      <td>800.0</td>\n",
       "      <td>NaN</td>\n",
       "      <td>NaN</td>\n",
       "      <td>NaN</td>\n",
       "    </tr>\n",
       "  </tbody>\n",
       "</table>\n",
       "</div>"
      ],
      "text/plain": [
       "      id  numero_sorteo  numero_premiado letras   monto vendedor ciudad  \\\n",
       "0  87814            390               44      P   600.0      NaN    NaN   \n",
       "1  87815            390               80     DT   600.0      NaN    NaN   \n",
       "2  87816            390              129     TT  1000.0      NaN    NaN   \n",
       "3  87817            390              180     DT   600.0      NaN    NaN   \n",
       "4  87818            390              228      P   800.0      NaN    NaN   \n",
       "\n",
       "  departamento  \n",
       "0          NaN  \n",
       "1          NaN  \n",
       "2          NaN  \n",
       "3          NaN  \n",
       "4          NaN  "
      ]
     },
     "execution_count": 4,
     "metadata": {},
     "output_type": "execute_result"
    }
   ],
   "source": [
    "# First lines of dataset\n",
    "df.head()"
   ]
  },
  {
   "cell_type": "code",
   "execution_count": 5,
   "metadata": {},
   "outputs": [
    {
     "name": "stdout",
     "output_type": "stream",
     "text": [
      "<class 'pandas.core.frame.DataFrame'>\n",
      "RangeIndex: 29271 entries, 0 to 29270\n",
      "Data columns (total 8 columns):\n",
      " #   Column           Non-Null Count  Dtype  \n",
      "---  ------           --------------  -----  \n",
      " 0   id               29271 non-null  int64  \n",
      " 1   numero_sorteo    29271 non-null  int64  \n",
      " 2   numero_premiado  29271 non-null  int64  \n",
      " 3   letras           29271 non-null  object \n",
      " 4   monto            29271 non-null  float64\n",
      " 5   vendedor         2734 non-null   object \n",
      " 6   ciudad           2382 non-null   object \n",
      " 7   departamento     2382 non-null   object \n",
      "dtypes: float64(1), int64(3), object(4)\n",
      "memory usage: 1.8+ MB\n"
     ]
    }
   ],
   "source": [
    "# General information\n",
    "df.info()"
   ]
  },
  {
   "cell_type": "code",
   "execution_count": 6,
   "metadata": {},
   "outputs": [
    {
     "data": {
      "text/html": [
       "<div>\n",
       "<style scoped>\n",
       "    .dataframe tbody tr th:only-of-type {\n",
       "        vertical-align: middle;\n",
       "    }\n",
       "\n",
       "    .dataframe tbody tr th {\n",
       "        vertical-align: top;\n",
       "    }\n",
       "\n",
       "    .dataframe thead th {\n",
       "        text-align: right;\n",
       "    }\n",
       "</style>\n",
       "<table border=\"1\" class=\"dataframe\">\n",
       "  <thead>\n",
       "    <tr style=\"text-align: right;\">\n",
       "      <th></th>\n",
       "      <th>id</th>\n",
       "      <th>numero_sorteo</th>\n",
       "      <th>numero_premiado</th>\n",
       "      <th>monto</th>\n",
       "    </tr>\n",
       "  </thead>\n",
       "  <tbody>\n",
       "    <tr>\n",
       "      <th>count</th>\n",
       "      <td>29271.000000</td>\n",
       "      <td>29271.000000</td>\n",
       "      <td>29271.000000</td>\n",
       "      <td>2.927100e+04</td>\n",
       "    </tr>\n",
       "    <tr>\n",
       "      <th>mean</th>\n",
       "      <td>102449.000000</td>\n",
       "      <td>2144.295275</td>\n",
       "      <td>41195.023641</td>\n",
       "      <td>2.840694e+03</td>\n",
       "    </tr>\n",
       "    <tr>\n",
       "      <th>std</th>\n",
       "      <td>8449.954201</td>\n",
       "      <td>1264.866625</td>\n",
       "      <td>24158.214136</td>\n",
       "      <td>5.025713e+04</td>\n",
       "    </tr>\n",
       "    <tr>\n",
       "      <th>min</th>\n",
       "      <td>87814.000000</td>\n",
       "      <td>390.000000</td>\n",
       "      <td>1.000000</td>\n",
       "      <td>5.000000e+02</td>\n",
       "    </tr>\n",
       "    <tr>\n",
       "      <th>25%</th>\n",
       "      <td>95131.500000</td>\n",
       "      <td>394.000000</td>\n",
       "      <td>20136.000000</td>\n",
       "      <td>6.000000e+02</td>\n",
       "    </tr>\n",
       "    <tr>\n",
       "      <th>50%</th>\n",
       "      <td>102449.000000</td>\n",
       "      <td>3052.000000</td>\n",
       "      <td>41210.000000</td>\n",
       "      <td>7.000000e+02</td>\n",
       "    </tr>\n",
       "    <tr>\n",
       "      <th>75%</th>\n",
       "      <td>109766.500000</td>\n",
       "      <td>3060.000000</td>\n",
       "      <td>61557.000000</td>\n",
       "      <td>1.000000e+03</td>\n",
       "    </tr>\n",
       "    <tr>\n",
       "      <th>max</th>\n",
       "      <td>117084.000000</td>\n",
       "      <td>3068.000000</td>\n",
       "      <td>99995.000000</td>\n",
       "      <td>5.000000e+06</td>\n",
       "    </tr>\n",
       "  </tbody>\n",
       "</table>\n",
       "</div>"
      ],
      "text/plain": [
       "                  id  numero_sorteo  numero_premiado         monto\n",
       "count   29271.000000   29271.000000     29271.000000  2.927100e+04\n",
       "mean   102449.000000    2144.295275     41195.023641  2.840694e+03\n",
       "std      8449.954201    1264.866625     24158.214136  5.025713e+04\n",
       "min     87814.000000     390.000000         1.000000  5.000000e+02\n",
       "25%     95131.500000     394.000000     20136.000000  6.000000e+02\n",
       "50%    102449.000000    3052.000000     41210.000000  7.000000e+02\n",
       "75%    109766.500000    3060.000000     61557.000000  1.000000e+03\n",
       "max    117084.000000    3068.000000     99995.000000  5.000000e+06"
      ]
     },
     "execution_count": 6,
     "metadata": {},
     "output_type": "execute_result"
    }
   ],
   "source": [
    "# Statistics of dataset\n",
    "df.describe()"
   ]
  },
  {
   "cell_type": "code",
   "execution_count": null,
   "metadata": {},
   "outputs": [],
   "source": []
  }
 ],
 "metadata": {
  "kernelspec": {
   "display_name": "loteria-env",
   "language": "python",
   "name": "python3"
  },
  "language_info": {
   "codemirror_mode": {
    "name": "ipython",
    "version": 3
   },
   "file_extension": ".py",
   "mimetype": "text/x-python",
   "name": "python",
   "nbconvert_exporter": "python",
   "pygments_lexer": "ipython3",
   "version": "3.13.0"
  }
 },
 "nbformat": 4,
 "nbformat_minor": 2
}

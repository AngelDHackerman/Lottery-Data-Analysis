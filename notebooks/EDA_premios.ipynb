{
 "cells": [
  {
   "cell_type": "markdown",
   "metadata": {},
   "source": [
    "# Objetive: "
   ]
  },
  {
   "cell_type": "markdown",
   "metadata": {},
   "source": [
    "### 1. Setup"
   ]
  },
  {
   "cell_type": "code",
   "execution_count": 1,
   "metadata": {},
   "outputs": [],
   "source": [
    "import pandas as pd\n",
    "import matplotlib.pyplot as plt\n",
    "import seaborn as sns"
   ]
  },
  {
   "cell_type": "code",
   "execution_count": 2,
   "metadata": {},
   "outputs": [],
   "source": [
    "# Set the style\n",
    "plt.style.use(\"ggplot\")\n",
    "sns.set_theme()\n",
    "\n",
    "# Remove scientific notation\n",
    "pd.options.display.float_format = '{:,.2f}'.format"
   ]
  },
  {
   "cell_type": "code",
   "execution_count": 3,
   "metadata": {},
   "outputs": [],
   "source": [
    "# Load dataset\n",
    "file_path = \"../Data/downloaded/premios_export.csv\"\n",
    "df = pd.read_csv(file_path)"
   ]
  },
  {
   "cell_type": "markdown",
   "metadata": {},
   "source": [
    "### 2. Exploring The Data"
   ]
  },
  {
   "cell_type": "code",
   "execution_count": 4,
   "metadata": {},
   "outputs": [
    {
     "data": {
      "text/html": [
       "<div>\n",
       "<style scoped>\n",
       "    .dataframe tbody tr th:only-of-type {\n",
       "        vertical-align: middle;\n",
       "    }\n",
       "\n",
       "    .dataframe tbody tr th {\n",
       "        vertical-align: top;\n",
       "    }\n",
       "\n",
       "    .dataframe thead th {\n",
       "        text-align: right;\n",
       "    }\n",
       "</style>\n",
       "<table border=\"1\" class=\"dataframe\">\n",
       "  <thead>\n",
       "    <tr style=\"text-align: right;\">\n",
       "      <th></th>\n",
       "      <th>id</th>\n",
       "      <th>numero_sorteo</th>\n",
       "      <th>numero_premiado</th>\n",
       "      <th>letras</th>\n",
       "      <th>monto</th>\n",
       "      <th>vendedor</th>\n",
       "      <th>ciudad</th>\n",
       "      <th>departamento</th>\n",
       "    </tr>\n",
       "  </thead>\n",
       "  <tbody>\n",
       "    <tr>\n",
       "      <th>0</th>\n",
       "      <td>87814</td>\n",
       "      <td>390</td>\n",
       "      <td>44</td>\n",
       "      <td>P</td>\n",
       "      <td>600.00</td>\n",
       "      <td>NaN</td>\n",
       "      <td>NaN</td>\n",
       "      <td>NaN</td>\n",
       "    </tr>\n",
       "    <tr>\n",
       "      <th>1</th>\n",
       "      <td>87815</td>\n",
       "      <td>390</td>\n",
       "      <td>80</td>\n",
       "      <td>DT</td>\n",
       "      <td>600.00</td>\n",
       "      <td>NaN</td>\n",
       "      <td>NaN</td>\n",
       "      <td>NaN</td>\n",
       "    </tr>\n",
       "    <tr>\n",
       "      <th>2</th>\n",
       "      <td>87816</td>\n",
       "      <td>390</td>\n",
       "      <td>129</td>\n",
       "      <td>TT</td>\n",
       "      <td>1,000.00</td>\n",
       "      <td>NaN</td>\n",
       "      <td>NaN</td>\n",
       "      <td>NaN</td>\n",
       "    </tr>\n",
       "    <tr>\n",
       "      <th>3</th>\n",
       "      <td>87817</td>\n",
       "      <td>390</td>\n",
       "      <td>180</td>\n",
       "      <td>DT</td>\n",
       "      <td>600.00</td>\n",
       "      <td>NaN</td>\n",
       "      <td>NaN</td>\n",
       "      <td>NaN</td>\n",
       "    </tr>\n",
       "    <tr>\n",
       "      <th>4</th>\n",
       "      <td>87818</td>\n",
       "      <td>390</td>\n",
       "      <td>228</td>\n",
       "      <td>P</td>\n",
       "      <td>800.00</td>\n",
       "      <td>NaN</td>\n",
       "      <td>NaN</td>\n",
       "      <td>NaN</td>\n",
       "    </tr>\n",
       "  </tbody>\n",
       "</table>\n",
       "</div>"
      ],
      "text/plain": [
       "      id  numero_sorteo  numero_premiado letras    monto vendedor ciudad  \\\n",
       "0  87814            390               44      P   600.00      NaN    NaN   \n",
       "1  87815            390               80     DT   600.00      NaN    NaN   \n",
       "2  87816            390              129     TT 1,000.00      NaN    NaN   \n",
       "3  87817            390              180     DT   600.00      NaN    NaN   \n",
       "4  87818            390              228      P   800.00      NaN    NaN   \n",
       "\n",
       "  departamento  \n",
       "0          NaN  \n",
       "1          NaN  \n",
       "2          NaN  \n",
       "3          NaN  \n",
       "4          NaN  "
      ]
     },
     "execution_count": 4,
     "metadata": {},
     "output_type": "execute_result"
    }
   ],
   "source": [
    "# First lines of dataset\n",
    "df.head()"
   ]
  },
  {
   "cell_type": "code",
   "execution_count": 5,
   "metadata": {},
   "outputs": [
    {
     "name": "stdout",
     "output_type": "stream",
     "text": [
      "<class 'pandas.core.frame.DataFrame'>\n",
      "RangeIndex: 29271 entries, 0 to 29270\n",
      "Data columns (total 8 columns):\n",
      " #   Column           Non-Null Count  Dtype  \n",
      "---  ------           --------------  -----  \n",
      " 0   id               29271 non-null  int64  \n",
      " 1   numero_sorteo    29271 non-null  int64  \n",
      " 2   numero_premiado  29271 non-null  int64  \n",
      " 3   letras           29271 non-null  object \n",
      " 4   monto            29271 non-null  float64\n",
      " 5   vendedor         2734 non-null   object \n",
      " 6   ciudad           2382 non-null   object \n",
      " 7   departamento     2382 non-null   object \n",
      "dtypes: float64(1), int64(3), object(4)\n",
      "memory usage: 1.8+ MB\n"
     ]
    }
   ],
   "source": [
    "# General information\n",
    "df.info()"
   ]
  },
  {
   "cell_type": "code",
   "execution_count": 6,
   "metadata": {},
   "outputs": [
    {
     "data": {
      "text/html": [
       "<div>\n",
       "<style scoped>\n",
       "    .dataframe tbody tr th:only-of-type {\n",
       "        vertical-align: middle;\n",
       "    }\n",
       "\n",
       "    .dataframe tbody tr th {\n",
       "        vertical-align: top;\n",
       "    }\n",
       "\n",
       "    .dataframe thead th {\n",
       "        text-align: right;\n",
       "    }\n",
       "</style>\n",
       "<table border=\"1\" class=\"dataframe\">\n",
       "  <thead>\n",
       "    <tr style=\"text-align: right;\">\n",
       "      <th></th>\n",
       "      <th>id</th>\n",
       "      <th>numero_sorteo</th>\n",
       "      <th>numero_premiado</th>\n",
       "      <th>monto</th>\n",
       "    </tr>\n",
       "  </thead>\n",
       "  <tbody>\n",
       "    <tr>\n",
       "      <th>count</th>\n",
       "      <td>29,271.00</td>\n",
       "      <td>29,271.00</td>\n",
       "      <td>29,271.00</td>\n",
       "      <td>29,271.00</td>\n",
       "    </tr>\n",
       "    <tr>\n",
       "      <th>mean</th>\n",
       "      <td>102,449.00</td>\n",
       "      <td>2,144.30</td>\n",
       "      <td>41,195.02</td>\n",
       "      <td>2,840.69</td>\n",
       "    </tr>\n",
       "    <tr>\n",
       "      <th>std</th>\n",
       "      <td>8,449.95</td>\n",
       "      <td>1,264.87</td>\n",
       "      <td>24,158.21</td>\n",
       "      <td>50,257.13</td>\n",
       "    </tr>\n",
       "    <tr>\n",
       "      <th>min</th>\n",
       "      <td>87,814.00</td>\n",
       "      <td>390.00</td>\n",
       "      <td>1.00</td>\n",
       "      <td>500.00</td>\n",
       "    </tr>\n",
       "    <tr>\n",
       "      <th>25%</th>\n",
       "      <td>95,131.50</td>\n",
       "      <td>394.00</td>\n",
       "      <td>20,136.00</td>\n",
       "      <td>600.00</td>\n",
       "    </tr>\n",
       "    <tr>\n",
       "      <th>50%</th>\n",
       "      <td>102,449.00</td>\n",
       "      <td>3,052.00</td>\n",
       "      <td>41,210.00</td>\n",
       "      <td>700.00</td>\n",
       "    </tr>\n",
       "    <tr>\n",
       "      <th>75%</th>\n",
       "      <td>109,766.50</td>\n",
       "      <td>3,060.00</td>\n",
       "      <td>61,557.00</td>\n",
       "      <td>1,000.00</td>\n",
       "    </tr>\n",
       "    <tr>\n",
       "      <th>max</th>\n",
       "      <td>117,084.00</td>\n",
       "      <td>3,068.00</td>\n",
       "      <td>99,995.00</td>\n",
       "      <td>5,000,000.00</td>\n",
       "    </tr>\n",
       "  </tbody>\n",
       "</table>\n",
       "</div>"
      ],
      "text/plain": [
       "              id  numero_sorteo  numero_premiado        monto\n",
       "count  29,271.00      29,271.00        29,271.00    29,271.00\n",
       "mean  102,449.00       2,144.30        41,195.02     2,840.69\n",
       "std     8,449.95       1,264.87        24,158.21    50,257.13\n",
       "min    87,814.00         390.00             1.00       500.00\n",
       "25%    95,131.50         394.00        20,136.00       600.00\n",
       "50%   102,449.00       3,052.00        41,210.00       700.00\n",
       "75%   109,766.50       3,060.00        61,557.00     1,000.00\n",
       "max   117,084.00       3,068.00        99,995.00 5,000,000.00"
      ]
     },
     "execution_count": 6,
     "metadata": {},
     "output_type": "execute_result"
    }
   ],
   "source": [
    "# Statistics of dataset\n",
    "df.describe()"
   ]
  },
  {
   "cell_type": "code",
   "execution_count": 7,
   "metadata": {},
   "outputs": [
    {
     "data": {
      "text/plain": [
       "id                     0\n",
       "numero_sorteo          0\n",
       "numero_premiado        0\n",
       "letras                 0\n",
       "monto                  0\n",
       "vendedor           26537\n",
       "ciudad             26889\n",
       "departamento       26889\n",
       "dtype: int64"
      ]
     },
     "execution_count": 7,
     "metadata": {},
     "output_type": "execute_result"
    }
   ],
   "source": [
    "# null values per column\n",
    "df.isnull().sum()"
   ]
  },
  {
   "cell_type": "markdown",
   "metadata": {},
   "source": [
    "### 3. Data Imputation (cleaning)"
   ]
  },
  {
   "cell_type": "code",
   "execution_count": 8,
   "metadata": {},
   "outputs": [],
   "source": [
    "# replace the null values with \"N/A\"\n",
    "\"\"\"\n",
    "Vendedor, ciudad and departamento are categorical variables, \n",
    "and filling them with N/A does not affect the analysis.\n",
    "\"\"\"\n",
    "\n",
    "df['vendedor'] = df['vendedor'].fillna(\"N/A\")\n",
    "df['ciudad'] = df['ciudad'].fillna(\"N/A\")\n",
    "df['departamento'] = df['departamento'].fillna(\"N/A\")\n"
   ]
  },
  {
   "cell_type": "code",
   "execution_count": 9,
   "metadata": {},
   "outputs": [
    {
     "data": {
      "text/html": [
       "<div>\n",
       "<style scoped>\n",
       "    .dataframe tbody tr th:only-of-type {\n",
       "        vertical-align: middle;\n",
       "    }\n",
       "\n",
       "    .dataframe tbody tr th {\n",
       "        vertical-align: top;\n",
       "    }\n",
       "\n",
       "    .dataframe thead th {\n",
       "        text-align: right;\n",
       "    }\n",
       "</style>\n",
       "<table border=\"1\" class=\"dataframe\">\n",
       "  <thead>\n",
       "    <tr style=\"text-align: right;\">\n",
       "      <th></th>\n",
       "      <th>numero_sorteo</th>\n",
       "      <th>numero_premiado</th>\n",
       "      <th>letras</th>\n",
       "      <th>monto</th>\n",
       "      <th>vendedor</th>\n",
       "      <th>ciudad</th>\n",
       "      <th>departamento</th>\n",
       "    </tr>\n",
       "  </thead>\n",
       "  <tbody>\n",
       "    <tr>\n",
       "      <th>0</th>\n",
       "      <td>390</td>\n",
       "      <td>44</td>\n",
       "      <td>P</td>\n",
       "      <td>600.00</td>\n",
       "      <td>N/A</td>\n",
       "      <td>N/A</td>\n",
       "      <td>N/A</td>\n",
       "    </tr>\n",
       "    <tr>\n",
       "      <th>1</th>\n",
       "      <td>390</td>\n",
       "      <td>80</td>\n",
       "      <td>DT</td>\n",
       "      <td>600.00</td>\n",
       "      <td>N/A</td>\n",
       "      <td>N/A</td>\n",
       "      <td>N/A</td>\n",
       "    </tr>\n",
       "    <tr>\n",
       "      <th>2</th>\n",
       "      <td>390</td>\n",
       "      <td>129</td>\n",
       "      <td>TT</td>\n",
       "      <td>1,000.00</td>\n",
       "      <td>N/A</td>\n",
       "      <td>N/A</td>\n",
       "      <td>N/A</td>\n",
       "    </tr>\n",
       "    <tr>\n",
       "      <th>3</th>\n",
       "      <td>390</td>\n",
       "      <td>180</td>\n",
       "      <td>DT</td>\n",
       "      <td>600.00</td>\n",
       "      <td>N/A</td>\n",
       "      <td>N/A</td>\n",
       "      <td>N/A</td>\n",
       "    </tr>\n",
       "    <tr>\n",
       "      <th>4</th>\n",
       "      <td>390</td>\n",
       "      <td>228</td>\n",
       "      <td>P</td>\n",
       "      <td>800.00</td>\n",
       "      <td>N/A</td>\n",
       "      <td>N/A</td>\n",
       "      <td>N/A</td>\n",
       "    </tr>\n",
       "  </tbody>\n",
       "</table>\n",
       "</div>"
      ],
      "text/plain": [
       "   numero_sorteo  numero_premiado letras    monto vendedor ciudad departamento\n",
       "0            390               44      P   600.00      N/A    N/A          N/A\n",
       "1            390               80     DT   600.00      N/A    N/A          N/A\n",
       "2            390              129     TT 1,000.00      N/A    N/A          N/A\n",
       "3            390              180     DT   600.00      N/A    N/A          N/A\n",
       "4            390              228      P   800.00      N/A    N/A          N/A"
      ]
     },
     "execution_count": 9,
     "metadata": {},
     "output_type": "execute_result"
    }
   ],
   "source": [
    "# Removing column `id`\n",
    "\"\"\"\n",
    "Column id is not relevant for the analysis\n",
    "therefore it can be removed.\n",
    "\"\"\"\n",
    "df.drop(columns=['id'], inplace=True)\n",
    "df.head()"
   ]
  },
  {
   "cell_type": "code",
   "execution_count": 10,
   "metadata": {},
   "outputs": [
    {
     "data": {
      "text/plain": [
       "numero_sorteo      0\n",
       "numero_premiado    0\n",
       "letras             0\n",
       "monto              0\n",
       "vendedor           0\n",
       "ciudad             0\n",
       "departamento       0\n",
       "dtype: int64"
      ]
     },
     "execution_count": 10,
     "metadata": {},
     "output_type": "execute_result"
    }
   ],
   "source": [
    "# null values per column\n",
    "df.isnull().sum()"
   ]
  },
  {
   "cell_type": "markdown",
   "metadata": {},
   "source": [
    "### 4. Basic Statistic in amount (monto)"
   ]
  },
  {
   "cell_type": "code",
   "execution_count": 11,
   "metadata": {},
   "outputs": [
    {
     "name": "stdout",
     "output_type": "stream",
     "text": [
      "count      29,271.00\n",
      "mean        2,840.69\n",
      "std        50,257.13\n",
      "min           500.00\n",
      "25%           600.00\n",
      "50%           700.00\n",
      "75%         1,000.00\n",
      "max     5,000,000.00\n",
      "Name: monto, dtype: float64\n"
     ]
    }
   ],
   "source": [
    "print(df['monto'].describe())"
   ]
  },
  {
   "cell_type": "markdown",
   "metadata": {},
   "source": [
    "### 5. Distribution Prize by amount (monto ganado)"
   ]
  },
  {
   "cell_type": "code",
   "execution_count": 12,
   "metadata": {},
   "outputs": [
    {
     "data": {
      "image/png": "[encoded data removed]",
      "text/plain": [
       "<Figure size 1000x600 with 1 Axes>"
      ]
     },
     "metadata": {},
     "output_type": "display_data"
    }
   ],
   "source": [
    "plt.figure(figsize=(10, 6))\n",
    "\n",
    "# Create boxplot\n",
    "sns.boxplot(x=df['monto'], color='orange')\n",
    "\n",
    "# Set title and tags\n",
    "plt.title('Detect outliers in amount (monto)')\n",
    "plt.xlabel('Amount (monto)')\n",
    "plt.grid(True)\n",
    "plt.show()\n"
   ]
  },
  {
   "cell_type": "markdown",
   "metadata": {},
   "source": [
    "##### Distribution Prize by amount (Interquartile Range)"
   ]
  },
  {
   "cell_type": "code",
   "execution_count": 13,
   "metadata": {},
   "outputs": [
    {
     "data": {
      "image/png": "[encoded data removed]",
      "text/plain": [
       "<Figure size 640x480 with 1 Axes>"
      ]
     },
     "metadata": {},
     "output_type": "display_data"
    }
   ],
   "source": [
    "Q1 = df['monto'].quantile(0.25)\n",
    "Q3 = df['monto'].quantile(0.75)\n",
    "IQR = Q3 - Q1\n",
    "\n",
    "# Filter values ​​within the interquartile range\n",
    "df_filtered = df[(df['monto'] >= Q1 - 1.5 * IQR) & (df['monto'] <= Q3 + 1.5 * IQR)]\n",
    "\n",
    "plt.Figure(figsize=(10,6))\n",
    "\n",
    "# Create boxplot without outliers\n",
    "sns.boxplot(x=df_filtered['monto'], color='skyblue')\n",
    "plt.title(\"Boxplot without outliers (IQR)\")\n",
    "plt.xlabel('Amount (monto)')\n",
    "plt.grid(True)\n",
    "plt.show()"
   ]
  },
  {
   "cell_type": "code",
   "execution_count": 15,
   "metadata": {},
   "outputs": [
    {
     "data": {
      "image/png": "[encoded data removed]",
      "text/plain": [
       "<Figure size 1000x600 with 1 Axes>"
      ]
     },
     "metadata": {},
     "output_type": "display_data"
    }
   ],
   "source": [
    "plt.figure(figsize=(10, 6))\n",
    "\n",
    "# Boxplot for numbers with prize (numero_premiado)\n",
    "sns.boxplot(x=df['numero_premiado'], color=\"skyblue\")\n",
    "\n",
    "plt.title('Boxplot distribution for numbers with prize')\n",
    "plt.xlabel('Number Winner')\n",
    "plt.grid(True)\n",
    "plt.show()"
   ]
  },
  {
   "cell_type": "code",
   "execution_count": null,
   "metadata": {},
   "outputs": [],
   "source": []
  }
 ],
 "metadata": {
  "kernelspec": {
   "display_name": "loteria-env",
   "language": "python",
   "name": "python3"
  },
  "language_info": {
   "codemirror_mode": {
    "name": "ipython",
    "version": 3
   },
   "file_extension": ".py",
   "mimetype": "text/x-python",
   "name": "python",
   "nbconvert_exporter": "python",
   "pygments_lexer": "ipython3",
   "version": "3.13.0"
  }
 },
 "nbformat": 4,
 "nbformat_minor": 2
}

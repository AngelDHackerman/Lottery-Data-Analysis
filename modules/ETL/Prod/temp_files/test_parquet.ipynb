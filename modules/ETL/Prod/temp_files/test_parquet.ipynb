{
 "cells": [
  {
   "cell_type": "code",
   "execution_count": 1,
   "id": "ce862f44",
   "metadata": {},
   "outputs": [],
   "source": [
    "import pandas as pd"
   ]
  },
  {
   "cell_type": "code",
   "execution_count": 3,
   "id": "5d07c19f",
   "metadata": {},
   "outputs": [
    {
     "name": "stdout",
     "output_type": "stream",
     "text": [
      "   numero_sorteo tipo_sorteo fecha_sorteo fecha_caducidad  primer_premio  \\\n",
      "0           3068   ORDINARIO   14/12/2024      13/06/2025          46325   \n",
      "\n",
      "   segundo_premio  tercer_premio reintegro_primer_premio  \\\n",
      "0            9059          13913                       5   \n",
      "\n",
      "  reintegro_segundo_premio reintegro_tercer_premio  \n",
      "0                        9                       3  \n"
     ]
    }
   ],
   "source": [
    "df = pd.read_parquet(\"./sorteos.parquet\")\n",
    "print(df)"
   ]
  },
  {
   "cell_type": "code",
   "execution_count": 4,
   "id": "15c2a774",
   "metadata": {},
   "outputs": [
    {
     "name": "stdout",
     "output_type": "stream",
     "text": [
      "   numero_sorteo tipo_sorteo fecha_sorteo fecha_caducidad  primer_premio  \\\n",
      "0           3068   ORDINARIO   14/12/2024      13/06/2025          46325   \n",
      "\n",
      "   segundo_premio  tercer_premio reintegro_primer_premio  \\\n",
      "0            9059          13913                       5   \n",
      "\n",
      "  reintegro_segundo_premio reintegro_tercer_premio  \n",
      "0                        9                       3  \n",
      "numero_sorteo                int64\n",
      "tipo_sorteo                 object\n",
      "fecha_sorteo                object\n",
      "fecha_caducidad             object\n",
      "primer_premio                int64\n",
      "segundo_premio               int64\n",
      "tercer_premio                int64\n",
      "reintegro_primer_premio     object\n",
      "reintegro_segundo_premio    object\n",
      "reintegro_tercer_premio     object\n",
      "dtype: object\n"
     ]
    }
   ],
   "source": [
    "print(df.head())\n",
    "print(df.dtypes)"
   ]
  },
  {
   "cell_type": "code",
   "execution_count": 5,
   "id": "49153c7c",
   "metadata": {},
   "outputs": [
    {
     "name": "stdout",
     "output_type": "stream",
     "text": [
      "     numero_sorteo numero_premiado letras   monto           vendedor  \\\n",
      "0             3068           00059     TT   600.0               None   \n",
      "1             3068           00095     PR   670.0               None   \n",
      "2             3068           00110      P   600.0               None   \n",
      "3             3068           00325     TT   700.0               None   \n",
      "4             3068           00775     PR   770.0               None   \n",
      "..             ...             ...    ...     ...                ...   \n",
      "871           3068           79059     TT   600.0               None   \n",
      "872           3068           79100      P   600.0               None   \n",
      "873           3068           79258      P  2500.0  PEDRO CHIC CHIPEL   \n",
      "874           3068           79325     TT   700.0               None   \n",
      "875           3068           79913     TT   500.0               None   \n",
      "\n",
      "              ciudad departamento  \n",
      "0               None         None  \n",
      "1               None         None  \n",
      "2               None         None  \n",
      "3               None         None  \n",
      "4               None         None  \n",
      "..               ...          ...  \n",
      "871             None         None  \n",
      "872             None         None  \n",
      "873  DE ESTA CAPITAL    GUATEMALA  \n",
      "874             None         None  \n",
      "875             None         None  \n",
      "\n",
      "[876 rows x 7 columns]\n"
     ]
    }
   ],
   "source": [
    "df_premios = pd.read_parquet(\"./premios.parquet\")\n",
    "print(df_premios)"
   ]
  }
 ],
 "metadata": {
  "kernelspec": {
   "display_name": "loteria-env",
   "language": "python",
   "name": "python3"
  },
  "language_info": {
   "codemirror_mode": {
    "name": "ipython",
    "version": 3
   },
   "file_extension": ".py",
   "mimetype": "text/x-python",
   "name": "python",
   "nbconvert_exporter": "python",
   "pygments_lexer": "ipython3",
   "version": "3.13.0"
  }
 },
 "nbformat": 4,
 "nbformat_minor": 5
}
